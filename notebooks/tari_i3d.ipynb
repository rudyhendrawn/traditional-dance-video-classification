{
 "cells": [
  {
   "cell_type": "code",
   "execution_count": null,
   "metadata": {
    "gradient": {
     "editing": false
    },
    "id": "-wH1ObtaSa37"
   },
   "outputs": [],
   "source": [
    "import os\n",
    "import glob\n",
    "from keras_video import VideoFrameGenerator\n",
    "import numpy as np\n",
    "import pandas as pd"
   ]
  },
  {
   "cell_type": "markdown",
   "metadata": {
    "gradient": {
     "editing": false
    }
   },
   "source": [
    "## Data Loading and Preprocessing"
   ]
  },
  {
   "cell_type": "code",
   "execution_count": null,
   "metadata": {
    "colab": {
     "base_uri": "https://localhost:8080/"
    },
    "gradient": {
     "editing": false
    },
    "id": "6ZeDBPMPGGKa",
    "outputId": "1e13407f-7ea2-4cc0-ddcb-0092cd9e9df5"
   },
   "outputs": [
    {
     "name": "stdout",
     "output_type": "stream",
     "text": [
      "class Agem_Kanan, validation count: 24, test count: 19, train count: 77\n",
      "class Agem_Kiri, validation count: 24, test count: 19, train count: 77\n",
      "class Ngegol, validation count: 24, test count: 19, train count: 77\n",
      "class Nyalud, validation count: 24, test count: 19, train count: 77\n",
      "class Nyeregseg, validation count: 24, test count: 19, train count: 77\n",
      "class Seledet, validation count: 24, test count: 19, train count: 77\n",
      "class Ulap_Ulap, validation count: 24, test count: 19, train count: 77\n",
      "Total data: 7 classes for 539 files for train\n"
     ]
    }
   ],
   "source": [
    "# Use sub directories names as classes\n",
    "classes = [i.split(os.path.sep)[1] for i in glob.glob('Dataset/*')]\n",
    "classes.sort()\n",
    "\n",
    "# Some global params\n",
    "SIZE = (224, 224)    # Image size\n",
    "CHANNELS = 3         # Color channel\n",
    "NBFRAME = 30         # Frames per video\n",
    "BS = 2               # Batch size\n",
    "\n",
    "# Pattern to get videos and classes\n",
    "glob_pattern = 'Dataset/{classname}/*.mp4'\n",
    "\n",
    "# Create video frame generator\n",
    "train = VideoFrameGenerator(\n",
    "    classes=classes, \n",
    "    glob_pattern=glob_pattern,\n",
    "    nb_frames=NBFRAME,\n",
    "    split_val=.20,\n",
    "    split_test=.20, \n",
    "    shuffle=True,\n",
    "    batch_size=BS,\n",
    "    target_shape=SIZE,\n",
    "    nb_channel=CHANNELS,\n",
    "    transformation=None, # Data Augmentation\n",
    "    use_frame_cache=False,\n",
    "    seed=42)"
   ]
  },
  {
   "cell_type": "code",
   "execution_count": null,
   "metadata": {
    "colab": {
     "base_uri": "https://localhost:8080/"
    },
    "gradient": {
     "editing": false
    },
    "id": "gtsGjKY0GaCh",
    "outputId": "e7847831-e5e5-4f1b-bea4-86427a3a95e0"
   },
   "outputs": [
    {
     "name": "stdout",
     "output_type": "stream",
     "text": [
      "Total data: 7 classes for 168 files for validation\n",
      "Total data: 7 classes for 133 files for test\n"
     ]
    }
   ],
   "source": [
    "valid = train.get_validation_generator()\n",
    "test = train.get_test_generator()"
   ]
  },
  {
   "cell_type": "markdown",
   "metadata": {
    "gradient": {
     "editing": false
    }
   },
   "source": [
    "## Modeling"
   ]
  },
  {
   "cell_type": "code",
   "execution_count": null,
   "metadata": {
    "gradient": {
     "editing": false
    },
    "id": "WnIA128SH7SV"
   },
   "outputs": [],
   "source": [
    "from tensorflow.keras.layers import Dense, GlobalAveragePooling3D, Dropout\n",
    "from tensorflow.keras.models import Sequential\n",
    "from tensorflow.keras.callbacks import EarlyStopping, ModelCheckpoint\n",
    "from i3d_inception import Inception_Inflated3d"
   ]
  },
  {
   "cell_type": "code",
   "execution_count": null,
   "metadata": {
    "gradient": {
     "editing": false
    },
    "id": "KSJCkgRuZr26"
   },
   "outputs": [],
   "source": [
    "input_shape = (NBFRAME,) + SIZE + (CHANNELS,)"
   ]
  },
  {
   "cell_type": "code",
   "execution_count": null,
   "metadata": {
    "colab": {
     "base_uri": "https://localhost:8080/"
    },
    "gradient": {
     "editing": false
    },
    "id": "-V2y7tc5ZGKZ",
    "outputId": "9de546b6-f347-432a-db17-46c91cd7f437",
    "scrolled": false
   },
   "outputs": [
    {
     "name": "stdout",
     "output_type": "stream",
     "text": [
      "Downloading data from https://github.com/dlpbc/keras-kinetics-i3d/releases/download/v0.2/rgb_inception_i3d_kinetics_only_tf_dim_ordering_tf_kernels_no_top.h5\n",
      "49602560/49595336 [==============================] - 2s 0us/step\n",
      "Model: \"sequential\"\n",
      "_________________________________________________________________\n",
      "Layer (type)                 Output Shape              Param #   \n",
      "=================================================================\n",
      "i3d_inception (Functional)   (None, 3, 1, 1, 1024)     12294544  \n",
      "_________________________________________________________________\n",
      "global_average_pooling3d (Gl (None, 1024)              0         \n",
      "_________________________________________________________________\n",
      "dense (Dense)                (None, 512)               524800    \n",
      "_________________________________________________________________\n",
      "dropout (Dropout)            (None, 512)               0         \n",
      "_________________________________________________________________\n",
      "dense_1 (Dense)              (None, 7)                 3591      \n",
      "=================================================================\n",
      "Total params: 12,822,935\n",
      "Trainable params: 528,391\n",
      "Non-trainable params: 12,294,544\n",
      "_________________________________________________________________\n"
     ]
    }
   ],
   "source": [
    "# Define I3D \n",
    "i3d = Inception_Inflated3d(\n",
    "                include_top=False,\n",
    "                weights='rgb_kinetics_only',\n",
    "                input_shape=input_shape,\n",
    "                classes=7)\n",
    "i3d.trainable = False\n",
    "\n",
    "# Define model\n",
    "model = Sequential()\n",
    "model.add(i3d)\n",
    "\n",
    "# Classification layer\n",
    "model.add(GlobalAveragePooling3D())\n",
    "model.add(Dense(512, activation='relu'))\n",
    "model.add(Dropout(0.5))\n",
    "model.add(Dense(int(len(classes)), activation='softmax'))\n",
    "\n",
    "model.summary()"
   ]
  },
  {
   "cell_type": "code",
   "execution_count": null,
   "metadata": {
    "gradient": {
     "editing": false
    },
    "id": "vepOE_YtJM0n"
   },
   "outputs": [],
   "source": [
    "epochs = 100\n",
    "\n",
    "earlystop = EarlyStopping(monitor='loss', patience=10)\n",
    "checkpoint = ModelCheckpoint('Checkpoint/i3d.h5', monitor='val_acc', save_best_only=True, mode='max', verbose=1)\n",
    "\n",
    "callbacks = [earlystop, checkpoint]\n",
    "\n",
    "model.compile(optimizer='adam',\n",
    "              loss='categorical_crossentropy',\n",
    "              metrics=['acc'])"
   ]
  },
  {
   "cell_type": "code",
   "execution_count": null,
   "metadata": {
    "colab": {
     "base_uri": "https://localhost:8080/"
    },
    "gradient": {
     "editing": false
    },
    "id": "dIdB2HptKLP4",
    "outputId": "af61424e-b514-47c3-86f1-2030985f333c",
    "scrolled": true
   },
   "outputs": [
    {
     "name": "stdout",
     "output_type": "stream",
     "text": [
      "Epoch 1/100\n",
      "269/269 [==============================] - 121s 422ms/step - loss: 2.0787 - acc: 0.1962 - val_loss: 1.5408 - val_acc: 0.3155\n",
      "\n",
      "Epoch 00001: val_acc improved from -inf to 0.31548, saving model to Checkpoint/i3d.h5\n",
      "Epoch 2/100\n",
      "269/269 [==============================] - 99s 368ms/step - loss: 1.5290 - acc: 0.4028 - val_loss: 1.3600 - val_acc: 0.4167\n",
      "\n",
      "Epoch 00002: val_acc improved from 0.31548 to 0.41667, saving model to Checkpoint/i3d.h5\n",
      "Epoch 3/100\n",
      "269/269 [==============================] - 100s 370ms/step - loss: 1.2983 - acc: 0.4413 - val_loss: 1.2292 - val_acc: 0.4940\n",
      "\n",
      "Epoch 00003: val_acc improved from 0.41667 to 0.49405, saving model to Checkpoint/i3d.h5\n",
      "Epoch 4/100\n",
      "269/269 [==============================] - 99s 369ms/step - loss: 1.2057 - acc: 0.5108 - val_loss: 1.1835 - val_acc: 0.5119\n",
      "\n",
      "Epoch 00004: val_acc improved from 0.49405 to 0.51190, saving model to Checkpoint/i3d.h5\n",
      "Epoch 5/100\n",
      "269/269 [==============================] - 99s 369ms/step - loss: 1.1805 - acc: 0.5127 - val_loss: 1.0473 - val_acc: 0.5655\n",
      "\n",
      "Epoch 00005: val_acc improved from 0.51190 to 0.56548, saving model to Checkpoint/i3d.h5\n",
      "Epoch 6/100\n",
      "269/269 [==============================] - 100s 371ms/step - loss: 1.0649 - acc: 0.5943 - val_loss: 1.0133 - val_acc: 0.6071\n",
      "\n",
      "Epoch 00006: val_acc improved from 0.56548 to 0.60714, saving model to Checkpoint/i3d.h5\n",
      "Epoch 7/100\n",
      "269/269 [==============================] - 98s 365ms/step - loss: 1.0196 - acc: 0.5620 - val_loss: 1.1817 - val_acc: 0.4583\n",
      "\n",
      "Epoch 00007: val_acc did not improve from 0.60714\n",
      "Epoch 8/100\n",
      "269/269 [==============================] - 99s 368ms/step - loss: 0.9919 - acc: 0.5666 - val_loss: 0.9127 - val_acc: 0.6131\n",
      "\n",
      "Epoch 00008: val_acc improved from 0.60714 to 0.61310, saving model to Checkpoint/i3d.h5\n",
      "Epoch 9/100\n",
      "269/269 [==============================] - 100s 370ms/step - loss: 0.8363 - acc: 0.6650 - val_loss: 0.9359 - val_acc: 0.5833\n",
      "\n",
      "Epoch 00009: val_acc did not improve from 0.61310\n",
      "Epoch 10/100\n",
      "269/269 [==============================] - 99s 368ms/step - loss: 0.8461 - acc: 0.6729 - val_loss: 0.8390 - val_acc: 0.6250\n",
      "\n",
      "Epoch 00010: val_acc improved from 0.61310 to 0.62500, saving model to Checkpoint/i3d.h5\n",
      "Epoch 11/100\n",
      "269/269 [==============================] - 99s 368ms/step - loss: 0.7978 - acc: 0.7037 - val_loss: 0.8535 - val_acc: 0.6726\n",
      "\n",
      "Epoch 00011: val_acc improved from 0.62500 to 0.67262, saving model to Checkpoint/i3d.h5\n",
      "Epoch 12/100\n",
      "269/269 [==============================] - 99s 368ms/step - loss: 0.8039 - acc: 0.6771 - val_loss: 0.8491 - val_acc: 0.6071\n",
      "\n",
      "Epoch 00012: val_acc did not improve from 0.67262\n",
      "Epoch 13/100\n",
      "269/269 [==============================] - 98s 365ms/step - loss: 0.7361 - acc: 0.6931 - val_loss: 0.7612 - val_acc: 0.6905\n",
      "\n",
      "Epoch 00013: val_acc improved from 0.67262 to 0.69048, saving model to Checkpoint/i3d.h5\n",
      "Epoch 14/100\n",
      "269/269 [==============================] - 98s 365ms/step - loss: 0.7033 - acc: 0.7096 - val_loss: 0.7435 - val_acc: 0.7083\n",
      "\n",
      "Epoch 00014: val_acc improved from 0.69048 to 0.70833, saving model to Checkpoint/i3d.h5\n",
      "Epoch 15/100\n",
      "269/269 [==============================] - 99s 370ms/step - loss: 0.6879 - acc: 0.7405 - val_loss: 0.7219 - val_acc: 0.6905\n",
      "\n",
      "Epoch 00015: val_acc did not improve from 0.70833\n",
      "Epoch 16/100\n",
      "269/269 [==============================] - 98s 366ms/step - loss: 0.6239 - acc: 0.7660 - val_loss: 0.7271 - val_acc: 0.6905\n",
      "\n",
      "Epoch 00016: val_acc did not improve from 0.70833\n",
      "Epoch 17/100\n",
      "269/269 [==============================] - 100s 370ms/step - loss: 0.5805 - acc: 0.7596 - val_loss: 0.7012 - val_acc: 0.7083\n",
      "\n",
      "Epoch 00017: val_acc did not improve from 0.70833\n",
      "Epoch 18/100\n",
      "269/269 [==============================] - 99s 367ms/step - loss: 0.5679 - acc: 0.7769 - val_loss: 0.7236 - val_acc: 0.7024\n",
      "\n",
      "Epoch 00018: val_acc did not improve from 0.70833\n",
      "Epoch 19/100\n",
      "269/269 [==============================] - 99s 367ms/step - loss: 0.6324 - acc: 0.7299 - val_loss: 0.7563 - val_acc: 0.7083\n",
      "\n",
      "Epoch 00019: val_acc did not improve from 0.70833\n",
      "Epoch 20/100\n",
      "269/269 [==============================] - 99s 368ms/step - loss: 0.5513 - acc: 0.7720 - val_loss: 0.7184 - val_acc: 0.6905\n",
      "\n",
      "Epoch 00020: val_acc did not improve from 0.70833\n",
      "Epoch 21/100\n",
      "269/269 [==============================] - 99s 367ms/step - loss: 0.5100 - acc: 0.8027 - val_loss: 0.6913 - val_acc: 0.7202\n",
      "\n",
      "Epoch 00021: val_acc improved from 0.70833 to 0.72024, saving model to Checkpoint/i3d.h5\n",
      "Epoch 22/100\n",
      "269/269 [==============================] - 99s 368ms/step - loss: 0.5181 - acc: 0.7839 - val_loss: 0.6447 - val_acc: 0.7440\n",
      "\n",
      "Epoch 00022: val_acc improved from 0.72024 to 0.74405, saving model to Checkpoint/i3d.h5\n",
      "Epoch 23/100\n",
      "269/269 [==============================] - 99s 368ms/step - loss: 0.4833 - acc: 0.8065 - val_loss: 0.7002 - val_acc: 0.7440\n",
      "\n",
      "Epoch 00023: val_acc did not improve from 0.74405\n",
      "Epoch 24/100\n",
      "269/269 [==============================] - 98s 363ms/step - loss: 0.5101 - acc: 0.8116 - val_loss: 0.5716 - val_acc: 0.7679\n",
      "\n",
      "Epoch 00024: val_acc improved from 0.74405 to 0.76786, saving model to Checkpoint/i3d.h5\n",
      "Epoch 25/100\n",
      "269/269 [==============================] - 99s 368ms/step - loss: 0.5010 - acc: 0.7804 - val_loss: 0.6913 - val_acc: 0.7202\n",
      "\n",
      "Epoch 00025: val_acc did not improve from 0.76786\n",
      "Epoch 26/100\n",
      "269/269 [==============================] - 99s 368ms/step - loss: 0.5374 - acc: 0.7965 - val_loss: 0.6013 - val_acc: 0.7619\n",
      "\n",
      "Epoch 00026: val_acc did not improve from 0.76786\n",
      "Epoch 27/100\n",
      "269/269 [==============================] - 99s 370ms/step - loss: 0.4045 - acc: 0.8520 - val_loss: 0.5681 - val_acc: 0.7738\n",
      "\n",
      "Epoch 00027: val_acc improved from 0.76786 to 0.77381, saving model to Checkpoint/i3d.h5\n",
      "Epoch 28/100\n",
      "269/269 [==============================] - 106s 396ms/step - loss: 0.3950 - acc: 0.8561 - val_loss: 0.5899 - val_acc: 0.7619\n",
      "\n",
      "Epoch 00028: val_acc did not improve from 0.77381\n",
      "Epoch 29/100\n",
      "269/269 [==============================] - 97s 361ms/step - loss: 0.3872 - acc: 0.8380 - val_loss: 0.5433 - val_acc: 0.7440\n",
      "\n",
      "Epoch 00029: val_acc did not improve from 0.77381\n",
      "Epoch 30/100\n",
      "269/269 [==============================] - 98s 365ms/step - loss: 0.4107 - acc: 0.8533 - val_loss: 0.6053 - val_acc: 0.7262\n",
      "\n",
      "Epoch 00030: val_acc did not improve from 0.77381\n",
      "Epoch 31/100\n",
      "269/269 [==============================] - 98s 364ms/step - loss: 0.4229 - acc: 0.8320 - val_loss: 0.5979 - val_acc: 0.7857\n",
      "\n",
      "Epoch 00031: val_acc improved from 0.77381 to 0.78571, saving model to Checkpoint/i3d.h5\n",
      "Epoch 32/100\n",
      "269/269 [==============================] - 97s 361ms/step - loss: 0.3541 - acc: 0.8696 - val_loss: 0.5663 - val_acc: 0.7679\n",
      "\n",
      "Epoch 00032: val_acc did not improve from 0.78571\n",
      "Epoch 33/100\n",
      "269/269 [==============================] - 98s 363ms/step - loss: 0.3913 - acc: 0.8376 - val_loss: 0.6827 - val_acc: 0.7083\n",
      "\n",
      "Epoch 00033: val_acc did not improve from 0.78571\n",
      "Epoch 34/100\n",
      "269/269 [==============================] - 98s 365ms/step - loss: 0.3736 - acc: 0.8591 - val_loss: 0.5121 - val_acc: 0.8036\n",
      "\n",
      "Epoch 00034: val_acc improved from 0.78571 to 0.80357, saving model to Checkpoint/i3d.h5\n",
      "Epoch 35/100\n",
      "269/269 [==============================] - 98s 364ms/step - loss: 0.3965 - acc: 0.8257 - val_loss: 0.5001 - val_acc: 0.7976\n",
      "\n",
      "Epoch 00035: val_acc did not improve from 0.80357\n",
      "Epoch 36/100\n",
      "269/269 [==============================] - 98s 366ms/step - loss: 0.2990 - acc: 0.8823 - val_loss: 0.4987 - val_acc: 0.7798\n",
      "\n",
      "Epoch 00036: val_acc did not improve from 0.80357\n",
      "Epoch 37/100\n",
      "269/269 [==============================] - 98s 363ms/step - loss: 0.3353 - acc: 0.8641 - val_loss: 0.6231 - val_acc: 0.7262\n",
      "\n",
      "Epoch 00037: val_acc did not improve from 0.80357\n",
      "Epoch 38/100\n",
      "269/269 [==============================] - 97s 361ms/step - loss: 0.3781 - acc: 0.8538 - val_loss: 0.4871 - val_acc: 0.8155\n",
      "\n",
      "Epoch 00038: val_acc improved from 0.80357 to 0.81548, saving model to Checkpoint/i3d.h5\n",
      "Epoch 39/100\n",
      "269/269 [==============================] - 98s 364ms/step - loss: 0.3266 - acc: 0.8660 - val_loss: 0.5682 - val_acc: 0.8036\n",
      "\n",
      "Epoch 00039: val_acc did not improve from 0.81548\n",
      "Epoch 40/100\n",
      "269/269 [==============================] - 98s 366ms/step - loss: 0.3044 - acc: 0.8962 - val_loss: 0.5581 - val_acc: 0.7738\n",
      "\n",
      "Epoch 00040: val_acc did not improve from 0.81548\n",
      "Epoch 41/100\n"
     ]
    },
    {
     "name": "stdout",
     "output_type": "stream",
     "text": [
      "269/269 [==============================] - 98s 364ms/step - loss: 0.2716 - acc: 0.8801 - val_loss: 0.5752 - val_acc: 0.7619\n",
      "\n",
      "Epoch 00041: val_acc did not improve from 0.81548\n",
      "Epoch 42/100\n",
      "269/269 [==============================] - 97s 362ms/step - loss: 0.2762 - acc: 0.9080 - val_loss: 0.5444 - val_acc: 0.7738\n",
      "\n",
      "Epoch 00042: val_acc did not improve from 0.81548\n",
      "Epoch 43/100\n",
      "269/269 [==============================] - 98s 364ms/step - loss: 0.2672 - acc: 0.8933 - val_loss: 0.5662 - val_acc: 0.7679\n",
      "\n",
      "Epoch 00043: val_acc did not improve from 0.81548\n",
      "Epoch 44/100\n",
      "269/269 [==============================] - 98s 363ms/step - loss: 0.2791 - acc: 0.8901 - val_loss: 0.5120 - val_acc: 0.7917\n",
      "\n",
      "Epoch 00044: val_acc did not improve from 0.81548\n",
      "Epoch 45/100\n",
      "269/269 [==============================] - 98s 365ms/step - loss: 0.3480 - acc: 0.8754 - val_loss: 0.5465 - val_acc: 0.7798\n",
      "\n",
      "Epoch 00045: val_acc did not improve from 0.81548\n",
      "Epoch 46/100\n",
      "269/269 [==============================] - 98s 363ms/step - loss: 0.2982 - acc: 0.8788 - val_loss: 0.4819 - val_acc: 0.7798\n",
      "\n",
      "Epoch 00046: val_acc did not improve from 0.81548\n",
      "Epoch 47/100\n",
      "269/269 [==============================] - 98s 363ms/step - loss: 0.3317 - acc: 0.8528 - val_loss: 0.5073 - val_acc: 0.8333\n",
      "\n",
      "Epoch 00047: val_acc improved from 0.81548 to 0.83333, saving model to Checkpoint/i3d.h5\n",
      "Epoch 48/100\n",
      "269/269 [==============================] - 98s 364ms/step - loss: 0.2514 - acc: 0.9058 - val_loss: 0.4655 - val_acc: 0.8214\n",
      "\n",
      "Epoch 00048: val_acc did not improve from 0.83333\n",
      "Epoch 49/100\n",
      "269/269 [==============================] - 98s 365ms/step - loss: 0.2952 - acc: 0.8916 - val_loss: 0.5225 - val_acc: 0.7976\n",
      "\n",
      "Epoch 00049: val_acc did not improve from 0.83333\n",
      "Epoch 50/100\n",
      "269/269 [==============================] - 98s 364ms/step - loss: 0.2238 - acc: 0.9213 - val_loss: 0.6550 - val_acc: 0.7202\n",
      "\n",
      "Epoch 00050: val_acc did not improve from 0.83333\n",
      "Epoch 51/100\n",
      "269/269 [==============================] - 98s 363ms/step - loss: 0.2846 - acc: 0.8777 - val_loss: 0.4869 - val_acc: 0.8036\n",
      "\n",
      "Epoch 00051: val_acc did not improve from 0.83333\n",
      "Epoch 52/100\n",
      "269/269 [==============================] - 97s 361ms/step - loss: 0.2395 - acc: 0.9141 - val_loss: 0.5697 - val_acc: 0.8095\n",
      "\n",
      "Epoch 00052: val_acc did not improve from 0.83333\n",
      "Epoch 53/100\n",
      "269/269 [==============================] - 97s 362ms/step - loss: 0.2070 - acc: 0.9227 - val_loss: 0.5009 - val_acc: 0.8274\n",
      "\n",
      "Epoch 00053: val_acc did not improve from 0.83333\n",
      "Epoch 54/100\n",
      "269/269 [==============================] - 98s 363ms/step - loss: 0.2431 - acc: 0.9170 - val_loss: 0.4963 - val_acc: 0.8095\n",
      "\n",
      "Epoch 00054: val_acc did not improve from 0.83333\n",
      "Epoch 55/100\n",
      "269/269 [==============================] - 97s 361ms/step - loss: 0.2079 - acc: 0.9229 - val_loss: 0.4945 - val_acc: 0.8214\n",
      "\n",
      "Epoch 00055: val_acc did not improve from 0.83333\n",
      "Epoch 56/100\n",
      "269/269 [==============================] - 98s 365ms/step - loss: 0.2161 - acc: 0.9300 - val_loss: 0.5211 - val_acc: 0.7976\n",
      "\n",
      "Epoch 00056: val_acc did not improve from 0.83333\n",
      "Epoch 57/100\n",
      "269/269 [==============================] - 97s 361ms/step - loss: 0.2875 - acc: 0.8825 - val_loss: 0.5965 - val_acc: 0.7738\n",
      "\n",
      "Epoch 00057: val_acc did not improve from 0.83333\n",
      "Epoch 58/100\n",
      "269/269 [==============================] - 96s 358ms/step - loss: 0.2734 - acc: 0.8991 - val_loss: 0.5257 - val_acc: 0.7976\n",
      "\n",
      "Epoch 00058: val_acc did not improve from 0.83333\n",
      "Epoch 59/100\n",
      "269/269 [==============================] - 97s 359ms/step - loss: 0.2130 - acc: 0.9268 - val_loss: 0.5558 - val_acc: 0.7976\n",
      "\n",
      "Epoch 00059: val_acc did not improve from 0.83333\n",
      "Epoch 60/100\n",
      "269/269 [==============================] - 97s 360ms/step - loss: 0.1971 - acc: 0.9382 - val_loss: 0.5651 - val_acc: 0.7798\n",
      "\n",
      "Epoch 00060: val_acc did not improve from 0.83333\n",
      "Epoch 61/100\n",
      "269/269 [==============================] - 97s 360ms/step - loss: 0.2005 - acc: 0.9356 - val_loss: 0.6795 - val_acc: 0.7738\n",
      "\n",
      "Epoch 00061: val_acc did not improve from 0.83333\n",
      "Epoch 62/100\n",
      "269/269 [==============================] - 97s 362ms/step - loss: 0.2856 - acc: 0.8792 - val_loss: 0.4754 - val_acc: 0.8393\n",
      "\n",
      "Epoch 00062: val_acc improved from 0.83333 to 0.83929, saving model to Checkpoint/i3d.h5\n",
      "Epoch 63/100\n",
      "269/269 [==============================] - 97s 362ms/step - loss: 0.2409 - acc: 0.9074 - val_loss: 0.4938 - val_acc: 0.8333\n",
      "\n",
      "Epoch 00063: val_acc did not improve from 0.83929\n",
      "Epoch 64/100\n",
      "269/269 [==============================] - 98s 363ms/step - loss: 0.2171 - acc: 0.9094 - val_loss: 0.4812 - val_acc: 0.8333\n",
      "\n",
      "Epoch 00064: val_acc did not improve from 0.83929\n",
      "Epoch 65/100\n",
      "269/269 [==============================] - 97s 360ms/step - loss: 0.2056 - acc: 0.9168 - val_loss: 0.5826 - val_acc: 0.7857\n",
      "\n",
      "Epoch 00065: val_acc did not improve from 0.83929\n",
      "Epoch 66/100\n",
      "269/269 [==============================] - 97s 361ms/step - loss: 0.2050 - acc: 0.9254 - val_loss: 0.4794 - val_acc: 0.8333\n",
      "\n",
      "Epoch 00066: val_acc did not improve from 0.83929\n",
      "Epoch 67/100\n",
      "269/269 [==============================] - 97s 362ms/step - loss: 0.1556 - acc: 0.9431 - val_loss: 0.4873 - val_acc: 0.8214\n",
      "\n",
      "Epoch 00067: val_acc did not improve from 0.83929\n",
      "Epoch 68/100\n",
      "269/269 [==============================] - 97s 362ms/step - loss: 0.2150 - acc: 0.9298 - val_loss: 0.5494 - val_acc: 0.8036\n",
      "\n",
      "Epoch 00068: val_acc did not improve from 0.83929\n",
      "Epoch 69/100\n",
      "269/269 [==============================] - 98s 363ms/step - loss: 0.1785 - acc: 0.9323 - val_loss: 0.5270 - val_acc: 0.7976\n",
      "\n",
      "Epoch 00069: val_acc did not improve from 0.83929\n",
      "Epoch 70/100\n",
      "269/269 [==============================] - 98s 364ms/step - loss: 0.2013 - acc: 0.9471 - val_loss: 0.5062 - val_acc: 0.8095\n",
      "\n",
      "Epoch 00070: val_acc did not improve from 0.83929\n",
      "Epoch 71/100\n",
      "269/269 [==============================] - 98s 363ms/step - loss: 0.1542 - acc: 0.9364 - val_loss: 0.4698 - val_acc: 0.8036\n",
      "\n",
      "Epoch 00071: val_acc did not improve from 0.83929\n",
      "Epoch 72/100\n",
      "269/269 [==============================] - 98s 365ms/step - loss: 0.1994 - acc: 0.9278 - val_loss: 0.5341 - val_acc: 0.8036\n",
      "\n",
      "Epoch 00072: val_acc did not improve from 0.83929\n",
      "Epoch 73/100\n",
      "269/269 [==============================] - 97s 361ms/step - loss: 0.1924 - acc: 0.9189 - val_loss: 0.5294 - val_acc: 0.8274\n",
      "\n",
      "Epoch 00073: val_acc did not improve from 0.83929\n",
      "Epoch 74/100\n",
      "269/269 [==============================] - 98s 365ms/step - loss: 0.1360 - acc: 0.9428 - val_loss: 0.5624 - val_acc: 0.7976\n",
      "\n",
      "Epoch 00074: val_acc did not improve from 0.83929\n",
      "Epoch 75/100\n",
      "269/269 [==============================] - 97s 361ms/step - loss: 0.2298 - acc: 0.9161 - val_loss: 0.5863 - val_acc: 0.7976\n",
      "\n",
      "Epoch 00075: val_acc did not improve from 0.83929\n",
      "Epoch 76/100\n",
      "269/269 [==============================] - 98s 365ms/step - loss: 0.1984 - acc: 0.9229 - val_loss: 0.4969 - val_acc: 0.8333\n",
      "\n",
      "Epoch 00076: val_acc did not improve from 0.83929\n",
      "Epoch 77/100\n",
      "269/269 [==============================] - 98s 365ms/step - loss: 0.1689 - acc: 0.9388 - val_loss: 0.6013 - val_acc: 0.7857\n",
      "\n",
      "Epoch 00077: val_acc did not improve from 0.83929\n",
      "Epoch 78/100\n",
      "269/269 [==============================] - 98s 364ms/step - loss: 0.1534 - acc: 0.9404 - val_loss: 0.4645 - val_acc: 0.8393\n",
      "\n",
      "Epoch 00078: val_acc did not improve from 0.83929\n",
      "Epoch 79/100\n",
      "269/269 [==============================] - 97s 360ms/step - loss: 0.1370 - acc: 0.9420 - val_loss: 0.5075 - val_acc: 0.8274\n",
      "\n",
      "Epoch 00079: val_acc did not improve from 0.83929\n",
      "Epoch 80/100\n",
      "269/269 [==============================] - 97s 360ms/step - loss: 0.1662 - acc: 0.9348 - val_loss: 0.5150 - val_acc: 0.8333\n",
      "\n",
      "Epoch 00080: val_acc did not improve from 0.83929\n",
      "Epoch 81/100\n",
      "269/269 [==============================] - 97s 362ms/step - loss: 0.1732 - acc: 0.9263 - val_loss: 0.4962 - val_acc: 0.7798\n",
      "\n",
      "Epoch 00081: val_acc did not improve from 0.83929\n",
      "Epoch 82/100\n",
      "269/269 [==============================] - 96s 358ms/step - loss: 0.2152 - acc: 0.9167 - val_loss: 0.6002 - val_acc: 0.7857\n",
      "\n",
      "Epoch 00082: val_acc did not improve from 0.83929\n",
      "Epoch 83/100\n",
      "269/269 [==============================] - 97s 362ms/step - loss: 0.2099 - acc: 0.9242 - val_loss: 0.5659 - val_acc: 0.8155\n",
      "\n",
      "Epoch 00083: val_acc did not improve from 0.83929\n",
      "Epoch 84/100\n"
     ]
    },
    {
     "name": "stdout",
     "output_type": "stream",
     "text": [
      "269/269 [==============================] - 98s 366ms/step - loss: 0.1559 - acc: 0.9428 - val_loss: 0.5174 - val_acc: 0.8214\n",
      "\n",
      "Epoch 00084: val_acc did not improve from 0.83929\n",
      "Epoch 85/100\n",
      "269/269 [==============================] - 97s 362ms/step - loss: 0.1473 - acc: 0.9482 - val_loss: 0.5998 - val_acc: 0.8274\n",
      "\n",
      "Epoch 00085: val_acc did not improve from 0.83929\n",
      "Epoch 86/100\n",
      "269/269 [==============================] - 97s 362ms/step - loss: 0.1507 - acc: 0.9393 - val_loss: 0.7383 - val_acc: 0.7738\n",
      "\n",
      "Epoch 00086: val_acc did not improve from 0.83929\n",
      "Epoch 87/100\n",
      "269/269 [==============================] - 98s 363ms/step - loss: 0.2624 - acc: 0.8961 - val_loss: 0.5353 - val_acc: 0.8214\n",
      "\n",
      "Epoch 00087: val_acc did not improve from 0.83929\n",
      "Epoch 88/100\n",
      "269/269 [==============================] - 97s 359ms/step - loss: 0.0989 - acc: 0.9737 - val_loss: 0.5229 - val_acc: 0.8750\n",
      "\n",
      "Epoch 00088: val_acc improved from 0.83929 to 0.87500, saving model to Checkpoint/i3d.h5\n",
      "Epoch 89/100\n",
      "269/269 [==============================] - 97s 360ms/step - loss: 0.2311 - acc: 0.9229 - val_loss: 0.5215 - val_acc: 0.8095\n",
      "\n",
      "Epoch 00089: val_acc did not improve from 0.87500\n",
      "Epoch 90/100\n",
      "269/269 [==============================] - 98s 365ms/step - loss: 0.1967 - acc: 0.9288 - val_loss: 0.5927 - val_acc: 0.7917\n",
      "\n",
      "Epoch 00090: val_acc did not improve from 0.87500\n",
      "Epoch 91/100\n",
      "269/269 [==============================] - 98s 364ms/step - loss: 0.1365 - acc: 0.9507 - val_loss: 0.5299 - val_acc: 0.8393\n",
      "\n",
      "Epoch 00091: val_acc did not improve from 0.87500\n",
      "Epoch 92/100\n",
      "269/269 [==============================] - 97s 360ms/step - loss: 0.0866 - acc: 0.9633 - val_loss: 0.5069 - val_acc: 0.8333\n",
      "\n",
      "Epoch 00092: val_acc did not improve from 0.87500\n",
      "Epoch 93/100\n",
      "269/269 [==============================] - 98s 364ms/step - loss: 0.1879 - acc: 0.9331 - val_loss: 0.5115 - val_acc: 0.8214\n",
      "\n",
      "Epoch 00093: val_acc did not improve from 0.87500\n",
      "Epoch 94/100\n",
      "269/269 [==============================] - 98s 363ms/step - loss: 0.2018 - acc: 0.9261 - val_loss: 0.5586 - val_acc: 0.8333\n",
      "\n",
      "Epoch 00094: val_acc did not improve from 0.87500\n",
      "Epoch 95/100\n",
      "269/269 [==============================] - 98s 365ms/step - loss: 0.1273 - acc: 0.9435 - val_loss: 0.5293 - val_acc: 0.8095\n",
      "\n",
      "Epoch 00095: val_acc did not improve from 0.87500\n",
      "Epoch 96/100\n",
      "269/269 [==============================] - 97s 362ms/step - loss: 0.1378 - acc: 0.9412 - val_loss: 0.5650 - val_acc: 0.8333\n",
      "\n",
      "Epoch 00096: val_acc did not improve from 0.87500\n",
      "Epoch 97/100\n",
      "269/269 [==============================] - 97s 360ms/step - loss: 0.2037 - acc: 0.9173 - val_loss: 0.6892 - val_acc: 0.7619\n",
      "\n",
      "Epoch 00097: val_acc did not improve from 0.87500\n",
      "Epoch 98/100\n",
      "269/269 [==============================] - 98s 363ms/step - loss: 0.2455 - acc: 0.8931 - val_loss: 0.4766 - val_acc: 0.8274\n",
      "\n",
      "Epoch 00098: val_acc did not improve from 0.87500\n",
      "Epoch 99/100\n",
      "269/269 [==============================] - 98s 364ms/step - loss: 0.1008 - acc: 0.9709 - val_loss: 0.4912 - val_acc: 0.8690\n",
      "\n",
      "Epoch 00099: val_acc did not improve from 0.87500\n",
      "Epoch 100/100\n",
      "269/269 [==============================] - 97s 361ms/step - loss: 0.1204 - acc: 0.9535 - val_loss: 0.5037 - val_acc: 0.8274\n",
      "\n",
      "Epoch 00100: val_acc did not improve from 0.87500\n"
     ]
    }
   ],
   "source": [
    "history = model.fit(train,\n",
    "                    validation_data=valid,\n",
    "                    epochs=epochs,\n",
    "                    callbacks=callbacks)"
   ]
  },
  {
   "cell_type": "code",
   "execution_count": null,
   "metadata": {
    "colab": {
     "base_uri": "https://localhost:8080/"
    },
    "gradient": {
     "editing": false
    },
    "id": "wfPQN-30gTGM",
    "outputId": "c1f73c40-a7e4-4854-b1a4-1fd8b3e42d55"
   },
   "outputs": [],
   "source": [
    "model.save(f'Model/tari/i3d-100e-0.82.h5')"
   ]
  },
  {
   "cell_type": "code",
   "execution_count": null,
   "metadata": {
    "gradient": {
     "editing": false
    },
    "id": "LlnL4bHWdO6h"
   },
   "outputs": [],
   "source": [
    "import matplotlib.pyplot as plt\n",
    "import seaborn as sns\n",
    "%matplotlib inline"
   ]
  },
  {
   "cell_type": "code",
   "execution_count": null,
   "metadata": {
    "colab": {
     "base_uri": "https://localhost:8080/",
     "height": 295
    },
    "gradient": {
     "editing": false
    },
    "id": "rl4n-balgAWy",
    "outputId": "87379cd0-d3a2-4316-f781-897f32f79940"
   },
   "outputs": [
    {
     "data": {
      "image/png": "[encoded data removed]",
      "text/plain": [
       "<Figure size 432x288 with 1 Axes>"
      ]
     },
     "metadata": {
      "needs_background": "light"
     },
     "output_type": "display_data"
    }
   ],
   "source": [
    "# Summarize history for accuracy\n",
    "plt.plot(history.history['acc'])\n",
    "plt.plot(history.history['val_acc'])\n",
    "plt.title('Model accuracy')\n",
    "plt.ylabel('accuracy')\n",
    "plt.xlabel('epoch')\n",
    "plt.legend(['train', 'test'], loc='upper left')\n",
    "plt.show()"
   ]
  },
  {
   "cell_type": "code",
   "execution_count": null,
   "metadata": {
    "colab": {
     "base_uri": "https://localhost:8080/",
     "height": 295
    },
    "gradient": {
     "editing": false
    },
    "id": "Ycg3_x_NgFPi",
    "outputId": "e14f030c-4b93-47b0-a20a-550bb7e45791"
   },
   "outputs": [
    {
     "data": {
      "image/png": "[encoded data removed]",
      "text/plain": [
       "<Figure size 432x288 with 1 Axes>"
      ]
     },
     "metadata": {
      "needs_background": "light"
     },
     "output_type": "display_data"
    }
   ],
   "source": [
    "# Summarize history for loss\n",
    "plt.plot(history.history['loss'])\n",
    "plt.plot(history.history['val_loss'])\n",
    "plt.title('Model loss')\n",
    "plt.ylabel('loss')\n",
    "plt.xlabel('epoch')\n",
    "plt.legend(['train', 'test'], loc='upper left')\n",
    "plt.show()"
   ]
  },
  {
   "cell_type": "code",
   "execution_count": null,
   "metadata": {
    "gradient": {}
   },
   "outputs": [],
   "source": [
    "# Save history to csv\n",
    "hist_df = pd.DataFrame(history.history)\n",
    "hist_csv_file = 'history_i3d.csv'\n",
    "with open(hist_csv_file, mode='w') as f:\n",
    "    hist_df.to_csv(f)"
   ]
  },
  {
   "cell_type": "markdown",
   "metadata": {},
   "source": [
    "## Testing"
   ]
  },
  {
   "cell_type": "code",
   "execution_count": null,
   "metadata": {
    "colab": {
     "base_uri": "https://localhost:8080/"
    },
    "gradient": {
     "editing": false
    },
    "id": "LMUhtx2lvRsc",
    "outputId": "fdc7298f-b5d9-4533-9b69-2d3e62866a25"
   },
   "outputs": [
    {
     "name": "stdout",
     "output_type": "stream",
     "text": [
      "66/66 [==============================] - 20s 300ms/step - loss: 0.8534 - acc: 0.7879\n"
     ]
    },
    {
     "data": {
      "text/plain": [
       "[0.8534486293792725, 0.7878788113594055]"
      ]
     },
     "execution_count": 15,
     "metadata": {},
     "output_type": "execute_result"
    }
   ],
   "source": [
    "model.evaluate(test)"
   ]
  },
  {
   "cell_type": "code",
   "execution_count": null,
   "metadata": {
    "gradient": {
     "editing": false
    },
    "id": "cG5MaD7Uo5-g"
   },
   "outputs": [],
   "source": [
    "y_test = []\n",
    "y_predict = []\n",
    "for step in range(test.files_count//BS):\n",
    "    X, y = test.next()\n",
    "    prediction = model.predict(X)\n",
    "    y_test.extend(y)\n",
    "    y_predict.extend(prediction)"
   ]
  },
  {
   "cell_type": "code",
   "execution_count": null,
   "metadata": {
    "gradient": {}
   },
   "outputs": [],
   "source": [
    "y_true = np.argmax(y_test, axis=1)\n",
    "prediction = np.argmax(y_predict, axis=1)"
   ]
  },
  {
   "cell_type": "code",
   "execution_count": null,
   "metadata": {
    "gradient": {}
   },
   "outputs": [],
   "source": [
    "from sklearn.metrics import accuracy_score, precision_score, recall_score, f1_score, confusion_matrix, classification_report, \\\n",
    "roc_curve, auc"
   ]
  },
  {
   "cell_type": "code",
   "execution_count": null,
   "metadata": {
    "gradient": {}
   },
   "outputs": [
    {
     "name": "stdout",
     "output_type": "stream",
     "text": [
      "Accuracy: 0.788\n",
      "Precision: 0.811\n",
      "Recall: 0.785\n",
      "F1 score: 0.783\n"
     ]
    }
   ],
   "source": [
    "# accuracy: (tp + tn) / (p + n)\n",
    "accuracy = accuracy_score(y_true, prediction)\n",
    "print(f'Accuracy: {np.round(accuracy, 3)}')\n",
    "# precision tp / (tp + fp)\n",
    "precision = precision_score(y_true, prediction, average='macro')\n",
    "print(f'Precision: {np.round(precision, 3)}')\n",
    "# recall: tp / (tp + fn)\n",
    "recall = recall_score(y_true, prediction, average='macro')\n",
    "print(f'Recall: {np.round(recall, 3)}')\n",
    "# f1: 2 tp / (2 tp + fp + fn)\n",
    "f1 = f1_score(y_true, prediction, average='macro')\n",
    "print(f'F1 score: {np.round(f1, 3)}')"
   ]
  },
  {
   "cell_type": "markdown",
   "metadata": {},
   "source": [
    "## Discussion"
   ]
  },
  {
   "cell_type": "code",
   "execution_count": null,
   "metadata": {
    "gradient": {}
   },
   "outputs": [
    {
     "name": "stdout",
     "output_type": "stream",
     "text": [
      "              precision    recall  f1-score   support\n",
      "\n",
      "  Agem_Kanan       0.67      0.74      0.70        19\n",
      "   Agem_Kiri       0.67      0.44      0.53        18\n",
      "      Ngegol       1.00      1.00      1.00        19\n",
      "      Nyalud       0.56      0.95      0.71        19\n",
      "   Nyeregseg       0.94      0.79      0.86        19\n",
      "     Seledet       1.00      1.00      1.00        19\n",
      "   Ulap_Ulap       0.85      0.58      0.69        19\n",
      "\n",
      "    accuracy                           0.79       132\n",
      "   macro avg       0.81      0.79      0.78       132\n",
      "weighted avg       0.81      0.79      0.79       132\n",
      "\n"
     ]
    }
   ],
   "source": [
    "target_names = test.classes\n",
    "print(classification_report(y_true, prediction, target_names=target_names))"
   ]
  },
  {
   "cell_type": "code",
   "execution_count": null,
   "metadata": {
    "gradient": {}
   },
   "outputs": [
    {
     "data": {
      "text/plain": [
       "<AxesSubplot:>"
      ]
     },
     "execution_count": 21,
     "metadata": {},
     "output_type": "execute_result"
    },
    {
     "data": {
      "image/png": "[encoded data removed]",
      "text/plain": [
       "<Figure size 432x288 with 2 Axes>"
      ]
     },
     "metadata": {
      "needs_background": "light"
     },
     "output_type": "display_data"
    }
   ],
   "source": [
    "matrix = confusion_matrix(y_true, prediction)\n",
    "sns.heatmap(matrix, annot=True, cmap='Blues')"
   ]
  },
  {
   "cell_type": "code",
   "execution_count": null,
   "metadata": {
    "gradient": {}
   },
   "outputs": [
    {
     "name": "stdout",
     "output_type": "stream",
     "text": [
      "AUC Score : 0.823\n"
     ]
    }
   ],
   "source": [
    "fpr, tpr, _ = roc_curve(y_true, prediction, pos_label=6)\n",
    "auc_score = auc(fpr, tpr)\n",
    "print(f'AUC Score : {np.round(auc_score, 3)}')"
   ]
  },
  {
   "cell_type": "code",
   "execution_count": null,
   "metadata": {
    "gradient": {}
   },
   "outputs": [
    {
     "data": {
      "image/png": "[encoded data removed]",
      "text/plain": [
       "<Figure size 432x288 with 1 Axes>"
      ]
     },
     "metadata": {
      "needs_background": "light"
     },
     "output_type": "display_data"
    }
   ],
   "source": [
    "plt.plot(fpr, tpr, marker='.')\n",
    "plt.plot([0, 1], [0, 1], color='navy', linestyle='--')\n",
    "plt.xlabel('False Positive Rate')\n",
    "plt.ylabel('True Positive Rate')\n",
    "plt.show()"
   ]
  },
  {
   "cell_type": "markdown",
   "metadata": {
    "gradient": {}
   },
   "source": [
    "## Model from checkpoint"
   ]
  },
  {
   "cell_type": "code",
   "execution_count": null,
   "metadata": {
    "gradient": {}
   },
   "outputs": [],
   "source": [
    "from tensorflow.keras.models import load_model"
   ]
  },
  {
   "cell_type": "code",
   "execution_count": null,
   "metadata": {
    "gradient": {}
   },
   "outputs": [],
   "source": [
    "ckp_model = load_model('Checkpoint/i3d.h5')"
   ]
  },
  {
   "cell_type": "code",
   "execution_count": null,
   "metadata": {
    "gradient": {}
   },
   "outputs": [
    {
     "name": "stdout",
     "output_type": "stream",
     "text": [
      "66/66 [==============================] - 20s 287ms/step - loss: 0.8028 - acc: 0.8030\n"
     ]
    },
    {
     "data": {
      "text/plain": [
       "[0.8028071522712708, 0.8030303120613098]"
      ]
     },
     "execution_count": 26,
     "metadata": {},
     "output_type": "execute_result"
    }
   ],
   "source": [
    "ckp_model.evaluate(test)"
   ]
  },
  {
   "cell_type": "code",
   "execution_count": null,
   "metadata": {
    "gradient": {
     "editing": false
    }
   },
   "outputs": [],
   "source": [
    "y_test = []\n",
    "y_predict = []\n",
    "for step in range(test.files_count//BS):\n",
    "    X, y = test.next()\n",
    "    prediction = ckp_model.predict(X)\n",
    "    y_test.extend(y)\n",
    "    y_predict.extend(prediction)"
   ]
  },
  {
   "cell_type": "code",
   "execution_count": null,
   "metadata": {
    "gradient": {
     "editing": false
    }
   },
   "outputs": [],
   "source": [
    "y_true = np.argmax(y_test, axis=1)\n",
    "prediction = np.argmax(y_predict, axis=1)"
   ]
  },
  {
   "cell_type": "code",
   "execution_count": null,
   "metadata": {
    "gradient": {
     "editing": false
    }
   },
   "outputs": [
    {
     "name": "stdout",
     "output_type": "stream",
     "text": [
      "              precision    recall  f1-score   support\n",
      "\n",
      "  Agem_Kanan       0.75      0.63      0.69        19\n",
      "   Agem_Kiri       0.68      0.79      0.73        19\n",
      "      Ngegol       1.00      1.00      1.00        19\n",
      "      Nyalud       0.64      0.84      0.73        19\n",
      "   Nyeregseg       0.76      0.72      0.74        18\n",
      "     Seledet       1.00      0.95      0.97        19\n",
      "   Ulap_Ulap       0.87      0.68      0.76        19\n",
      "\n",
      "    accuracy                           0.80       132\n",
      "   macro avg       0.81      0.80      0.80       132\n",
      "weighted avg       0.82      0.80      0.80       132\n",
      "\n"
     ]
    }
   ],
   "source": [
    "target_names = test.classes\n",
    "print(classification_report(y_true, prediction, target_names=target_names))"
   ]
  },
  {
   "cell_type": "code",
   "execution_count": null,
   "metadata": {
    "gradient": {
     "editing": false
    }
   },
   "outputs": [
    {
     "data": {
      "text/plain": [
       "<AxesSubplot:>"
      ]
     },
     "execution_count": 30,
     "metadata": {},
     "output_type": "execute_result"
    },
    {
     "data": {
      "image/png": "[encoded data removed]",
      "text/plain": [
       "<Figure size 432x288 with 2 Axes>"
      ]
     },
     "metadata": {
      "needs_background": "light"
     },
     "output_type": "display_data"
    }
   ],
   "source": [
    "matrix = confusion_matrix(y_true, prediction)\n",
    "sns.heatmap(matrix, annot=True, cmap='Blues')"
   ]
  },
  {
   "cell_type": "code",
   "execution_count": null,
   "metadata": {
    "gradient": {
     "editing": false
    }
   },
   "outputs": [
    {
     "name": "stdout",
     "output_type": "stream",
     "text": [
      "Accuracy: 0.803\n",
      "Precision: 0.815\n",
      "Recall: 0.802\n",
      "F1 score: 0.804\n"
     ]
    }
   ],
   "source": [
    "# accuracy: (tp + tn) / (p + n)\n",
    "accuracy = accuracy_score(y_true, prediction)\n",
    "print(f'Accuracy: {np.round(accuracy, 3)}')\n",
    "# precision tp / (tp + fp)\n",
    "precision = precision_score(y_true, prediction, average='macro')\n",
    "print(f'Precision: {np.round(precision, 3)}')\n",
    "# recall: tp / (tp + fn)\n",
    "recall = recall_score(y_true, prediction, average='macro')\n",
    "print(f'Recall: {np.round(recall, 3)}')\n",
    "# f1: 2 tp / (2 tp + fp + fn)\n",
    "f1 = f1_score(y_true, prediction, average='macro')\n",
    "print(f'F1 score: {np.round(f1, 3)}')"
   ]
  },
  {
   "cell_type": "code",
   "execution_count": null,
   "metadata": {
    "gradient": {
     "editing": false
    }
   },
   "outputs": [
    {
     "name": "stdout",
     "output_type": "stream",
     "text": [
      "AUC Score : 0.893\n"
     ]
    }
   ],
   "source": [
    "fpr, tpr, _ = roc_curve(y_true, prediction, pos_label=6)\n",
    "auc_score = auc(fpr, tpr)\n",
    "print(f'AUC Score : {np.round(auc_score, 3)}')"
   ]
  },
  {
   "cell_type": "code",
   "execution_count": null,
   "metadata": {
    "gradient": {
     "editing": false
    }
   },
   "outputs": [
    {
     "data": {
      "image/png": "[encoded data removed]",
      "text/plain": [
       "<Figure size 432x288 with 1 Axes>"
      ]
     },
     "metadata": {
      "needs_background": "light"
     },
     "output_type": "display_data"
    }
   ],
   "source": [
    "plt.plot(fpr, tpr, marker='.')\n",
    "plt.plot([0, 1], [0, 1], color='navy', linestyle='--')\n",
    "plt.xlabel('False Positive Rate')\n",
    "plt.ylabel('True Positive Rate')\n",
    "plt.show()"
   ]
  },
  {
   "cell_type": "code",
   "execution_count": null,
   "metadata": {
    "gradient": {
     "editing": false
    }
   },
   "outputs": [],
   "source": []
  }
 ],
 "metadata": {
  "accelerator": "GPU",
  "colab": {
   "collapsed_sections": [],
   "name": "tari-cnn-lstm.ipynb",
   "provenance": []
  },
  "interpreter": {
   "hash": "394f6d615c517a98a26a3abaa39f66d9197996219307679676fba2a805887257"
  },
  "kernelspec": {
   "display_name": "Python 3",
   "language": "python",
   "name": "python3"
  },
  "language_info": {
   "codemirror_mode": {
    "name": "ipython",
    "version": 3
   },
   "file_extension": ".py",
   "mimetype": "text/x-python",
   "name": "python",
   "nbconvert_exporter": "python",
   "pygments_lexer": "ipython3",
   "version": "3.6.9"
  }
 },
 "nbformat": 4,
 "nbformat_minor": 1
}
