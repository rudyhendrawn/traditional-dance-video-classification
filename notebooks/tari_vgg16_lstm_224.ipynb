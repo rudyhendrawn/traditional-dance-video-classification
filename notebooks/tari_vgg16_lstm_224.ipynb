{
 "cells": [
  {
   "cell_type": "code",
   "execution_count": 1,
   "metadata": {
    "gradient": {
     "editing": false
    },
    "id": "-wH1ObtaSa37"
   },
   "outputs": [],
   "source": [
    "import os\n",
    "import glob\n",
    "from keras_video import VideoFrameGenerator\n",
    "import numpy as np\n",
    "import pandas as pd"
   ]
  },
  {
   "cell_type": "markdown",
   "metadata": {},
   "source": [
    "## Data Loading and Preprocessing"
   ]
  },
  {
   "cell_type": "code",
   "execution_count": 2,
   "metadata": {
    "colab": {
     "base_uri": "https://localhost:8080/"
    },
    "gradient": {
     "editing": true
    },
    "id": "6ZeDBPMPGGKa",
    "outputId": "1e13407f-7ea2-4cc0-ddcb-0092cd9e9df5"
   },
   "outputs": [
    {
     "name": "stdout",
     "output_type": "stream",
     "text": [
      "class Agem_Kanan, validation count: 24, test count: 19, train count: 77\n",
      "class Agem_Kiri, validation count: 24, test count: 19, train count: 77\n",
      "class Ngegol, validation count: 24, test count: 19, train count: 77\n",
      "class Nyalud, validation count: 24, test count: 19, train count: 77\n",
      "class Nyeregseg, validation count: 24, test count: 19, train count: 77\n",
      "class Seledet, validation count: 24, test count: 19, train count: 77\n",
      "class Ulap_Ulap, validation count: 24, test count: 19, train count: 77\n",
      "Total data: 7 classes for 539 files for train\n"
     ]
    }
   ],
   "source": [
    "# Use sub directories names as classes\n",
    "classes = [i.split(os.path.sep)[1] for i in glob.glob('Dataset/*')]\n",
    "classes.sort()\n",
    "\n",
    "# Some global params\n",
    "SIZE = (224, 224)    # Image size\n",
    "CHANNELS = 3         # Color channel\n",
    "NBFRAME = 30         # Frames per video\n",
    "BS = 2               # Batch size\n",
    "\n",
    "# Pattern to get videos and classes\n",
    "glob_pattern = 'Dataset/{classname}/*.mp4'\n",
    "\n",
    "# Create video frame generator\n",
    "train = VideoFrameGenerator(\n",
    "    classes=classes, \n",
    "    glob_pattern=glob_pattern,\n",
    "    nb_frames=NBFRAME,\n",
    "    split_val=.20,\n",
    "    split_test=.20, \n",
    "    shuffle=True,\n",
    "    batch_size=BS,\n",
    "    target_shape=SIZE,\n",
    "    nb_channel=CHANNELS,\n",
    "    transformation=None, # Data Augmentation\n",
    "    use_frame_cache=False,\n",
    "    seed=42)"
   ]
  },
  {
   "cell_type": "code",
   "execution_count": 3,
   "metadata": {
    "colab": {
     "base_uri": "https://localhost:8080/"
    },
    "gradient": {
     "editing": false
    },
    "id": "gtsGjKY0GaCh",
    "outputId": "e7847831-e5e5-4f1b-bea4-86427a3a95e0"
   },
   "outputs": [
    {
     "name": "stdout",
     "output_type": "stream",
     "text": [
      "Total data: 7 classes for 168 files for validation\n",
      "Total data: 7 classes for 133 files for test\n"
     ]
    }
   ],
   "source": [
    "valid = train.get_validation_generator()\n",
    "test = train.get_test_generator()"
   ]
  },
  {
   "cell_type": "code",
   "execution_count": 4,
   "metadata": {
    "gradient": {
     "editing": false
    },
    "id": "WnIA128SH7SV"
   },
   "outputs": [],
   "source": [
    "from tensorflow.keras.layers import GlobalAveragePooling2D, LSTM, Dense, Dropout, TimeDistributed\n",
    "from tensorflow.keras.models import Sequential\n",
    "from tensorflow.keras.callbacks import EarlyStopping, ModelCheckpoint\n",
    "from tensorflow.keras.applications.vgg16 import VGG16"
   ]
  },
  {
   "cell_type": "code",
   "execution_count": 5,
   "metadata": {
    "gradient": {
     "editing": false
    },
    "id": "KSJCkgRuZr26"
   },
   "outputs": [],
   "source": [
    "input_shape = (NBFRAME,) + SIZE + (CHANNELS,)"
   ]
  },
  {
   "cell_type": "code",
   "execution_count": 6,
   "metadata": {
    "colab": {
     "base_uri": "https://localhost:8080/"
    },
    "gradient": {
     "editing": false
    },
    "id": "-V2y7tc5ZGKZ",
    "outputId": "9de546b6-f347-432a-db17-46c91cd7f437",
    "scrolled": false
   },
   "outputs": [
    {
     "name": "stdout",
     "output_type": "stream",
     "text": [
      "Model: \"sequential\"\n",
      "_________________________________________________________________\n",
      "Layer (type)                 Output Shape              Param #   \n",
      "=================================================================\n",
      "time_distributed (TimeDistri (None, 30, 7, 7, 512)     14714688  \n",
      "_________________________________________________________________\n",
      "time_distributed_1 (TimeDist (None, 30, 512)           0         \n",
      "_________________________________________________________________\n",
      "lstm (LSTM)                  (None, 256)               787456    \n",
      "_________________________________________________________________\n",
      "dense (Dense)                (None, 1024)              263168    \n",
      "_________________________________________________________________\n",
      "dropout (Dropout)            (None, 1024)              0         \n",
      "_________________________________________________________________\n",
      "dense_1 (Dense)              (None, 7)                 7175      \n",
      "=================================================================\n",
      "Total params: 15,772,487\n",
      "Trainable params: 1,057,799\n",
      "Non-trainable params: 14,714,688\n",
      "_________________________________________________________________\n"
     ]
    }
   ],
   "source": [
    "# Define VGG16 model\n",
    "model_vgg16 = VGG16(weights='imagenet', include_top=False, input_shape=input_shape[1:])\n",
    "model_vgg16.trainable = False\n",
    "\n",
    "model = Sequential()\n",
    "\n",
    "model.add(TimeDistributed(model_vgg16, input_shape=input_shape))\n",
    "model.add(TimeDistributed(GlobalAveragePooling2D()))\n",
    "\n",
    "# Define LSTM model\n",
    "model.add(LSTM(256))\n",
    "\n",
    "# Dense layer\n",
    "model.add(Dense(1024, activation='relu'))\n",
    "model.add(Dropout(.2))\n",
    "model.add(Dense(int(len(classes)), activation='softmax'))\n",
    "\n",
    "model.summary()"
   ]
  },
  {
   "cell_type": "code",
   "execution_count": 7,
   "metadata": {
    "gradient": {
     "editing": false
    },
    "id": "vepOE_YtJM0n"
   },
   "outputs": [],
   "source": [
    "epochs = 100\n",
    "\n",
    "earlystop = EarlyStopping(monitor='loss', patience=10)\n",
    "checkpoint = ModelCheckpoint('Checkpoint/vgg16-lstm-224.h5', monitor='val_acc', save_best_only=True, mode='max', verbose=1)\n",
    "\n",
    "callbacks = [earlystop, checkpoint]\n",
    "\n",
    "model.compile(optimizer='adam',\n",
    "              loss='categorical_crossentropy',\n",
    "              metrics=['acc'])"
   ]
  },
  {
   "cell_type": "code",
   "execution_count": 8,
   "metadata": {
    "colab": {
     "base_uri": "https://localhost:8080/"
    },
    "gradient": {
     "editing": false
    },
    "id": "dIdB2HptKLP4",
    "outputId": "af61424e-b514-47c3-86f1-2030985f333c",
    "scrolled": true
   },
   "outputs": [
    {
     "name": "stdout",
     "output_type": "stream",
     "text": [
      "Epoch 1/100\n",
      "269/269 [==============================] - 113s 374ms/step - loss: 1.9457 - acc: 0.2014 - val_loss: 1.5757 - val_acc: 0.2857\n",
      "\n",
      "Epoch 00001: val_acc improved from -inf to 0.28571, saving model to Checkpoint/vgg16-lstm-224.h5\n",
      "Epoch 2/100\n",
      "269/269 [==============================] - 94s 349ms/step - loss: 1.6217 - acc: 0.2396 - val_loss: 1.5407 - val_acc: 0.2798\n",
      "\n",
      "Epoch 00002: val_acc did not improve from 0.28571\n",
      "Epoch 3/100\n",
      "269/269 [==============================] - 96s 357ms/step - loss: 1.6019 - acc: 0.2756 - val_loss: 1.5786 - val_acc: 0.2857\n",
      "\n",
      "Epoch 00003: val_acc did not improve from 0.28571\n",
      "Epoch 4/100\n",
      "269/269 [==============================] - 94s 348ms/step - loss: 1.5383 - acc: 0.3057 - val_loss: 1.5011 - val_acc: 0.3512\n",
      "\n",
      "Epoch 00004: val_acc improved from 0.28571 to 0.35119, saving model to Checkpoint/vgg16-lstm-224.h5\n",
      "Epoch 5/100\n",
      "269/269 [==============================] - 94s 349ms/step - loss: 1.5148 - acc: 0.3321 - val_loss: 1.4511 - val_acc: 0.3333\n",
      "\n",
      "Epoch 00005: val_acc did not improve from 0.35119\n",
      "Epoch 6/100\n",
      "269/269 [==============================] - 94s 351ms/step - loss: 1.3642 - acc: 0.3997 - val_loss: 1.4255 - val_acc: 0.3690\n",
      "\n",
      "Epoch 00006: val_acc improved from 0.35119 to 0.36905, saving model to Checkpoint/vgg16-lstm-224.h5\n",
      "Epoch 7/100\n",
      "269/269 [==============================] - 94s 349ms/step - loss: 1.3103 - acc: 0.4057 - val_loss: 1.3281 - val_acc: 0.4167\n",
      "\n",
      "Epoch 00007: val_acc improved from 0.36905 to 0.41667, saving model to Checkpoint/vgg16-lstm-224.h5\n",
      "Epoch 8/100\n",
      "269/269 [==============================] - 93s 347ms/step - loss: 1.2774 - acc: 0.4215 - val_loss: 1.3155 - val_acc: 0.3929\n",
      "\n",
      "Epoch 00008: val_acc did not improve from 0.41667\n",
      "Epoch 9/100\n",
      "269/269 [==============================] - 94s 350ms/step - loss: 1.1681 - acc: 0.4773 - val_loss: 1.2523 - val_acc: 0.3810\n",
      "\n",
      "Epoch 00009: val_acc did not improve from 0.41667\n",
      "Epoch 10/100\n",
      "269/269 [==============================] - 94s 348ms/step - loss: 1.1699 - acc: 0.4787 - val_loss: 1.1889 - val_acc: 0.4762\n",
      "\n",
      "Epoch 00010: val_acc improved from 0.41667 to 0.47619, saving model to Checkpoint/vgg16-lstm-224.h5\n",
      "Epoch 11/100\n",
      "269/269 [==============================] - 94s 348ms/step - loss: 1.1826 - acc: 0.4696 - val_loss: 1.0840 - val_acc: 0.5536\n",
      "\n",
      "Epoch 00011: val_acc improved from 0.47619 to 0.55357, saving model to Checkpoint/vgg16-lstm-224.h5\n",
      "Epoch 12/100\n",
      "269/269 [==============================] - 93s 345ms/step - loss: 1.0272 - acc: 0.5797 - val_loss: 1.1541 - val_acc: 0.4702\n",
      "\n",
      "Epoch 00012: val_acc did not improve from 0.55357\n",
      "Epoch 13/100\n",
      "269/269 [==============================] - 93s 346ms/step - loss: 1.0562 - acc: 0.5036 - val_loss: 1.2020 - val_acc: 0.4405\n",
      "\n",
      "Epoch 00013: val_acc did not improve from 0.55357\n",
      "Epoch 14/100\n",
      "269/269 [==============================] - 94s 347ms/step - loss: 1.0192 - acc: 0.5863 - val_loss: 1.1690 - val_acc: 0.5000\n",
      "\n",
      "Epoch 00014: val_acc did not improve from 0.55357\n",
      "Epoch 15/100\n",
      "269/269 [==============================] - 94s 349ms/step - loss: 0.9812 - acc: 0.5456 - val_loss: 1.0318 - val_acc: 0.5536\n",
      "\n",
      "Epoch 00015: val_acc did not improve from 0.55357\n",
      "Epoch 16/100\n",
      "269/269 [==============================] - 93s 346ms/step - loss: 0.9732 - acc: 0.5414 - val_loss: 1.0327 - val_acc: 0.5357\n",
      "\n",
      "Epoch 00016: val_acc did not improve from 0.55357\n",
      "Epoch 17/100\n",
      "269/269 [==============================] - 94s 347ms/step - loss: 0.9581 - acc: 0.5885 - val_loss: 1.0496 - val_acc: 0.5238\n",
      "\n",
      "Epoch 00017: val_acc did not improve from 0.55357\n",
      "Epoch 18/100\n",
      "269/269 [==============================] - 94s 348ms/step - loss: 0.8839 - acc: 0.6155 - val_loss: 0.9257 - val_acc: 0.5893\n",
      "\n",
      "Epoch 00018: val_acc improved from 0.55357 to 0.58929, saving model to Checkpoint/vgg16-lstm-224.h5\n",
      "Epoch 19/100\n",
      "269/269 [==============================] - 95s 352ms/step - loss: 0.8740 - acc: 0.6402 - val_loss: 0.8808 - val_acc: 0.6310\n",
      "\n",
      "Epoch 00019: val_acc improved from 0.58929 to 0.63095, saving model to Checkpoint/vgg16-lstm-224.h5\n",
      "Epoch 20/100\n",
      "269/269 [==============================] - 93s 345ms/step - loss: 0.7734 - acc: 0.6738 - val_loss: 1.0565 - val_acc: 0.5417\n",
      "\n",
      "Epoch 00020: val_acc did not improve from 0.63095\n",
      "Epoch 21/100\n",
      "269/269 [==============================] - 94s 349ms/step - loss: 0.7269 - acc: 0.7079 - val_loss: 1.1606 - val_acc: 0.5417\n",
      "\n",
      "Epoch 00021: val_acc did not improve from 0.63095\n",
      "Epoch 22/100\n",
      "269/269 [==============================] - 95s 353ms/step - loss: 0.8670 - acc: 0.6657 - val_loss: 0.8090 - val_acc: 0.6667\n",
      "\n",
      "Epoch 00022: val_acc improved from 0.63095 to 0.66667, saving model to Checkpoint/vgg16-lstm-224.h5\n",
      "Epoch 23/100\n",
      "269/269 [==============================] - 94s 348ms/step - loss: 0.6174 - acc: 0.7482 - val_loss: 0.8066 - val_acc: 0.7024\n",
      "\n",
      "Epoch 00023: val_acc improved from 0.66667 to 0.70238, saving model to Checkpoint/vgg16-lstm-224.h5\n",
      "Epoch 24/100\n",
      "269/269 [==============================] - 95s 351ms/step - loss: 0.6854 - acc: 0.7259 - val_loss: 1.0538 - val_acc: 0.6131\n",
      "\n",
      "Epoch 00024: val_acc did not improve from 0.70238\n",
      "Epoch 25/100\n",
      "269/269 [==============================] - 93s 347ms/step - loss: 0.6594 - acc: 0.7107 - val_loss: 1.0410 - val_acc: 0.5952\n",
      "\n",
      "Epoch 00025: val_acc did not improve from 0.70238\n",
      "Epoch 26/100\n",
      "269/269 [==============================] - 94s 350ms/step - loss: 0.6109 - acc: 0.7073 - val_loss: 0.8862 - val_acc: 0.6845\n",
      "\n",
      "Epoch 00026: val_acc did not improve from 0.70238\n",
      "Epoch 27/100\n",
      "269/269 [==============================] - 95s 352ms/step - loss: 0.5473 - acc: 0.7809 - val_loss: 0.8944 - val_acc: 0.6667\n",
      "\n",
      "Epoch 00027: val_acc did not improve from 0.70238\n",
      "Epoch 28/100\n",
      "269/269 [==============================] - 94s 349ms/step - loss: 0.6137 - acc: 0.7476 - val_loss: 0.8541 - val_acc: 0.6607\n",
      "\n",
      "Epoch 00028: val_acc did not improve from 0.70238\n",
      "Epoch 29/100\n",
      "269/269 [==============================] - 95s 351ms/step - loss: 0.5593 - acc: 0.7757 - val_loss: 0.7683 - val_acc: 0.6845\n",
      "\n",
      "Epoch 00029: val_acc did not improve from 0.70238\n",
      "Epoch 30/100\n",
      "269/269 [==============================] - 94s 351ms/step - loss: 0.4795 - acc: 0.7957 - val_loss: 0.8754 - val_acc: 0.6786\n",
      "\n",
      "Epoch 00030: val_acc did not improve from 0.70238\n",
      "Epoch 31/100\n",
      "269/269 [==============================] - 94s 349ms/step - loss: 0.5845 - acc: 0.7740 - val_loss: 0.6938 - val_acc: 0.6964\n",
      "\n",
      "Epoch 00031: val_acc did not improve from 0.70238\n",
      "Epoch 32/100\n",
      "269/269 [==============================] - 95s 353ms/step - loss: 0.4719 - acc: 0.8028 - val_loss: 1.1987 - val_acc: 0.6786\n",
      "\n",
      "Epoch 00032: val_acc did not improve from 0.70238\n",
      "Epoch 33/100\n",
      "269/269 [==============================] - 95s 351ms/step - loss: 0.5223 - acc: 0.7884 - val_loss: 0.7013 - val_acc: 0.7083\n",
      "\n",
      "Epoch 00033: val_acc improved from 0.70238 to 0.70833, saving model to Checkpoint/vgg16-lstm-224.h5\n",
      "Epoch 34/100\n",
      "269/269 [==============================] - 93s 347ms/step - loss: 0.4399 - acc: 0.8142 - val_loss: 0.8588 - val_acc: 0.7202\n",
      "\n",
      "Epoch 00034: val_acc improved from 0.70833 to 0.72024, saving model to Checkpoint/vgg16-lstm-224.h5\n",
      "Epoch 35/100\n",
      "269/269 [==============================] - 94s 351ms/step - loss: 0.4433 - acc: 0.8072 - val_loss: 1.1438 - val_acc: 0.6190\n",
      "\n",
      "Epoch 00035: val_acc did not improve from 0.72024\n",
      "Epoch 36/100\n",
      "269/269 [==============================] - 93s 346ms/step - loss: 0.6455 - acc: 0.7479 - val_loss: 0.6447 - val_acc: 0.7857\n",
      "\n",
      "Epoch 00036: val_acc improved from 0.72024 to 0.78571, saving model to Checkpoint/vgg16-lstm-224.h5\n",
      "Epoch 37/100\n",
      "269/269 [==============================] - 94s 348ms/step - loss: 0.4103 - acc: 0.8259 - val_loss: 0.6098 - val_acc: 0.8095\n",
      "\n",
      "Epoch 00037: val_acc improved from 0.78571 to 0.80952, saving model to Checkpoint/vgg16-lstm-224.h5\n",
      "Epoch 38/100\n",
      "269/269 [==============================] - 95s 352ms/step - loss: 0.3570 - acc: 0.8756 - val_loss: 0.8000 - val_acc: 0.7024\n",
      "\n",
      "Epoch 00038: val_acc did not improve from 0.80952\n",
      "Epoch 39/100\n",
      "269/269 [==============================] - 94s 349ms/step - loss: 0.3657 - acc: 0.8296 - val_loss: 0.6901 - val_acc: 0.7143\n",
      "\n",
      "Epoch 00039: val_acc did not improve from 0.80952\n",
      "Epoch 40/100\n",
      "269/269 [==============================] - 93s 346ms/step - loss: 0.3789 - acc: 0.8249 - val_loss: 0.6017 - val_acc: 0.7917\n",
      "\n",
      "Epoch 00040: val_acc did not improve from 0.80952\n",
      "Epoch 41/100\n"
     ]
    },
    {
     "name": "stdout",
     "output_type": "stream",
     "text": [
      "269/269 [==============================] - 94s 350ms/step - loss: 0.2860 - acc: 0.9106 - val_loss: 0.6590 - val_acc: 0.7321\n",
      "\n",
      "Epoch 00041: val_acc did not improve from 0.80952\n",
      "Epoch 42/100\n",
      "269/269 [==============================] - 94s 347ms/step - loss: 0.3141 - acc: 0.8788 - val_loss: 0.7273 - val_acc: 0.7976\n",
      "\n",
      "Epoch 00042: val_acc did not improve from 0.80952\n",
      "Epoch 43/100\n",
      "269/269 [==============================] - 93s 346ms/step - loss: 0.3215 - acc: 0.8729 - val_loss: 0.6612 - val_acc: 0.7679\n",
      "\n",
      "Epoch 00043: val_acc did not improve from 0.80952\n",
      "Epoch 44/100\n",
      "269/269 [==============================] - 94s 347ms/step - loss: 0.3005 - acc: 0.8803 - val_loss: 0.8494 - val_acc: 0.7440\n",
      "\n",
      "Epoch 00044: val_acc did not improve from 0.80952\n",
      "Epoch 45/100\n",
      "269/269 [==============================] - 93s 346ms/step - loss: 0.3269 - acc: 0.8812 - val_loss: 0.6746 - val_acc: 0.7738\n",
      "\n",
      "Epoch 00045: val_acc did not improve from 0.80952\n",
      "Epoch 46/100\n",
      "269/269 [==============================] - 93s 347ms/step - loss: 0.3468 - acc: 0.8797 - val_loss: 0.6094 - val_acc: 0.7798\n",
      "\n",
      "Epoch 00046: val_acc did not improve from 0.80952\n",
      "Epoch 47/100\n",
      "269/269 [==============================] - 94s 349ms/step - loss: 0.3839 - acc: 0.8482 - val_loss: 0.4949 - val_acc: 0.8393\n",
      "\n",
      "Epoch 00047: val_acc improved from 0.80952 to 0.83929, saving model to Checkpoint/vgg16-lstm-224.h5\n",
      "Epoch 48/100\n",
      "269/269 [==============================] - 94s 348ms/step - loss: 0.2572 - acc: 0.9019 - val_loss: 0.5310 - val_acc: 0.8095\n",
      "\n",
      "Epoch 00048: val_acc did not improve from 0.83929\n",
      "Epoch 49/100\n",
      "269/269 [==============================] - 94s 348ms/step - loss: 0.2612 - acc: 0.9051 - val_loss: 0.5959 - val_acc: 0.7738\n",
      "\n",
      "Epoch 00049: val_acc did not improve from 0.83929\n",
      "Epoch 50/100\n",
      "269/269 [==============================] - 95s 352ms/step - loss: 0.1949 - acc: 0.9210 - val_loss: 0.6512 - val_acc: 0.7917\n",
      "\n",
      "Epoch 00050: val_acc did not improve from 0.83929\n",
      "Epoch 51/100\n",
      "269/269 [==============================] - 94s 348ms/step - loss: 0.3848 - acc: 0.8686 - val_loss: 0.7597 - val_acc: 0.7381\n",
      "\n",
      "Epoch 00051: val_acc did not improve from 0.83929\n",
      "Epoch 52/100\n",
      "269/269 [==============================] - 95s 352ms/step - loss: 0.2397 - acc: 0.9183 - val_loss: 0.6378 - val_acc: 0.7976\n",
      "\n",
      "Epoch 00052: val_acc did not improve from 0.83929\n",
      "Epoch 53/100\n",
      "269/269 [==============================] - 94s 348ms/step - loss: 0.2289 - acc: 0.9209 - val_loss: 0.8402 - val_acc: 0.7679\n",
      "\n",
      "Epoch 00053: val_acc did not improve from 0.83929\n",
      "Epoch 54/100\n",
      "269/269 [==============================] - 94s 350ms/step - loss: 0.3759 - acc: 0.8594 - val_loss: 0.7949 - val_acc: 0.7381\n",
      "\n",
      "Epoch 00054: val_acc did not improve from 0.83929\n",
      "Epoch 55/100\n",
      "269/269 [==============================] - 93s 346ms/step - loss: 0.2842 - acc: 0.8880 - val_loss: 0.5629 - val_acc: 0.8155\n",
      "\n",
      "Epoch 00055: val_acc did not improve from 0.83929\n",
      "Epoch 56/100\n",
      "269/269 [==============================] - 94s 350ms/step - loss: 0.1689 - acc: 0.9453 - val_loss: 0.7314 - val_acc: 0.7857\n",
      "\n",
      "Epoch 00056: val_acc did not improve from 0.83929\n",
      "Epoch 57/100\n",
      "269/269 [==============================] - 94s 350ms/step - loss: 0.2687 - acc: 0.9072 - val_loss: 0.7286 - val_acc: 0.8036\n",
      "\n",
      "Epoch 00057: val_acc did not improve from 0.83929\n",
      "Epoch 58/100\n",
      "269/269 [==============================] - 94s 348ms/step - loss: 0.3239 - acc: 0.8680 - val_loss: 0.6942 - val_acc: 0.7500\n",
      "\n",
      "Epoch 00058: val_acc did not improve from 0.83929\n",
      "Epoch 59/100\n",
      "269/269 [==============================] - 94s 347ms/step - loss: 0.2240 - acc: 0.9153 - val_loss: 0.6445 - val_acc: 0.8036\n",
      "\n",
      "Epoch 00059: val_acc did not improve from 0.83929\n",
      "Epoch 60/100\n",
      "269/269 [==============================] - 94s 350ms/step - loss: 0.2040 - acc: 0.9078 - val_loss: 0.6886 - val_acc: 0.8393\n",
      "\n",
      "Epoch 00060: val_acc did not improve from 0.83929\n",
      "Epoch 61/100\n",
      "269/269 [==============================] - 94s 349ms/step - loss: 0.2159 - acc: 0.9260 - val_loss: 0.6222 - val_acc: 0.8393\n",
      "\n",
      "Epoch 00061: val_acc did not improve from 0.83929\n",
      "Epoch 62/100\n",
      "269/269 [==============================] - 95s 353ms/step - loss: 0.1604 - acc: 0.9460 - val_loss: 0.7535 - val_acc: 0.7798\n",
      "\n",
      "Epoch 00062: val_acc did not improve from 0.83929\n",
      "Epoch 63/100\n",
      "269/269 [==============================] - 94s 349ms/step - loss: 0.2696 - acc: 0.9050 - val_loss: 0.6651 - val_acc: 0.8155\n",
      "\n",
      "Epoch 00063: val_acc did not improve from 0.83929\n",
      "Epoch 64/100\n",
      "269/269 [==============================] - 94s 350ms/step - loss: 0.1819 - acc: 0.9249 - val_loss: 0.8426 - val_acc: 0.7679\n",
      "\n",
      "Epoch 00064: val_acc did not improve from 0.83929\n",
      "Epoch 65/100\n",
      "269/269 [==============================] - 94s 348ms/step - loss: 0.3538 - acc: 0.8870 - val_loss: 0.6401 - val_acc: 0.7738\n",
      "\n",
      "Epoch 00065: val_acc did not improve from 0.83929\n",
      "Epoch 66/100\n",
      "269/269 [==============================] - 95s 352ms/step - loss: 0.2037 - acc: 0.9129 - val_loss: 0.5416 - val_acc: 0.8274\n",
      "\n",
      "Epoch 00066: val_acc did not improve from 0.83929\n",
      "Epoch 67/100\n",
      "269/269 [==============================] - 94s 348ms/step - loss: 0.1002 - acc: 0.9662 - val_loss: 0.8596 - val_acc: 0.7976\n",
      "\n",
      "Epoch 00067: val_acc did not improve from 0.83929\n",
      "Epoch 68/100\n",
      "269/269 [==============================] - 94s 349ms/step - loss: 0.1660 - acc: 0.9292 - val_loss: 0.7881 - val_acc: 0.7917\n",
      "\n",
      "Epoch 00068: val_acc did not improve from 0.83929\n",
      "Epoch 69/100\n",
      "269/269 [==============================] - 93s 347ms/step - loss: 0.2267 - acc: 0.9183 - val_loss: 0.8468 - val_acc: 0.7738\n",
      "\n",
      "Epoch 00069: val_acc did not improve from 0.83929\n",
      "Epoch 70/100\n",
      "269/269 [==============================] - 95s 352ms/step - loss: 0.1724 - acc: 0.9515 - val_loss: 0.8744 - val_acc: 0.8214\n",
      "\n",
      "Epoch 00070: val_acc did not improve from 0.83929\n",
      "Epoch 71/100\n",
      "269/269 [==============================] - 95s 352ms/step - loss: 0.1813 - acc: 0.9465 - val_loss: 0.6164 - val_acc: 0.8393\n",
      "\n",
      "Epoch 00071: val_acc did not improve from 0.83929\n",
      "Epoch 72/100\n",
      "269/269 [==============================] - 95s 351ms/step - loss: 0.0747 - acc: 0.9728 - val_loss: 0.8221 - val_acc: 0.7976\n",
      "\n",
      "Epoch 00072: val_acc did not improve from 0.83929\n",
      "Epoch 73/100\n",
      "269/269 [==============================] - 94s 348ms/step - loss: 0.3108 - acc: 0.8951 - val_loss: 0.9037 - val_acc: 0.7202\n",
      "\n",
      "Epoch 00073: val_acc did not improve from 0.83929\n",
      "Epoch 74/100\n",
      "269/269 [==============================] - 96s 356ms/step - loss: 0.1779 - acc: 0.9489 - val_loss: 0.8050 - val_acc: 0.7679\n",
      "\n",
      "Epoch 00074: val_acc did not improve from 0.83929\n",
      "Epoch 75/100\n",
      "269/269 [==============================] - 95s 353ms/step - loss: 0.1716 - acc: 0.9301 - val_loss: 0.9037 - val_acc: 0.7381\n",
      "\n",
      "Epoch 00075: val_acc did not improve from 0.83929\n",
      "Epoch 76/100\n",
      "269/269 [==============================] - 94s 350ms/step - loss: 0.1145 - acc: 0.9703 - val_loss: 0.5535 - val_acc: 0.8750\n",
      "\n",
      "Epoch 00076: val_acc improved from 0.83929 to 0.87500, saving model to Checkpoint/vgg16-lstm-224.h5\n",
      "Epoch 77/100\n",
      "269/269 [==============================] - 94s 350ms/step - loss: 0.0984 - acc: 0.9533 - val_loss: 0.6327 - val_acc: 0.8393\n",
      "\n",
      "Epoch 00077: val_acc did not improve from 0.87500\n",
      "Epoch 78/100\n",
      "269/269 [==============================] - 94s 350ms/step - loss: 0.1674 - acc: 0.9285 - val_loss: 0.8223 - val_acc: 0.8036\n",
      "\n",
      "Epoch 00078: val_acc did not improve from 0.87500\n",
      "Epoch 79/100\n",
      "269/269 [==============================] - 95s 353ms/step - loss: 0.3667 - acc: 0.8889 - val_loss: 0.6215 - val_acc: 0.8214\n",
      "\n",
      "Epoch 00079: val_acc did not improve from 0.87500\n",
      "Epoch 80/100\n",
      "269/269 [==============================] - 94s 350ms/step - loss: 0.0732 - acc: 0.9745 - val_loss: 0.8625 - val_acc: 0.7798\n",
      "\n",
      "Epoch 00080: val_acc did not improve from 0.87500\n",
      "Epoch 81/100\n",
      "269/269 [==============================] - 94s 348ms/step - loss: 0.0953 - acc: 0.9726 - val_loss: 0.7550 - val_acc: 0.8274\n",
      "\n",
      "Epoch 00081: val_acc did not improve from 0.87500\n",
      "Epoch 82/100\n",
      "269/269 [==============================] - 94s 350ms/step - loss: 0.2680 - acc: 0.9101 - val_loss: 0.5973 - val_acc: 0.8869\n",
      "\n",
      "Epoch 00082: val_acc improved from 0.87500 to 0.88690, saving model to Checkpoint/vgg16-lstm-224.h5\n",
      "Epoch 83/100\n",
      "269/269 [==============================] - 94s 350ms/step - loss: 0.0540 - acc: 0.9817 - val_loss: 0.6982 - val_acc: 0.8452\n",
      "\n",
      "Epoch 00083: val_acc did not improve from 0.88690\n",
      "Epoch 84/100\n"
     ]
    },
    {
     "name": "stdout",
     "output_type": "stream",
     "text": [
      "269/269 [==============================] - 93s 345ms/step - loss: 0.2810 - acc: 0.9117 - val_loss: 0.7329 - val_acc: 0.8095\n",
      "\n",
      "Epoch 00084: val_acc did not improve from 0.88690\n",
      "Epoch 85/100\n",
      "269/269 [==============================] - 93s 345ms/step - loss: 0.0905 - acc: 0.9784 - val_loss: 0.6755 - val_acc: 0.7917\n",
      "\n",
      "Epoch 00085: val_acc did not improve from 0.88690\n",
      "Epoch 86/100\n",
      "269/269 [==============================] - 93s 347ms/step - loss: 0.1271 - acc: 0.9540 - val_loss: 0.7062 - val_acc: 0.8095\n",
      "\n",
      "Epoch 00086: val_acc did not improve from 0.88690\n",
      "Epoch 87/100\n",
      "269/269 [==============================] - 93s 345ms/step - loss: 0.1002 - acc: 0.9635 - val_loss: 0.6418 - val_acc: 0.8452\n",
      "\n",
      "Epoch 00087: val_acc did not improve from 0.88690\n",
      "Epoch 88/100\n",
      "269/269 [==============================] - 94s 349ms/step - loss: 0.0325 - acc: 0.9922 - val_loss: 0.8395 - val_acc: 0.8333\n",
      "\n",
      "Epoch 00088: val_acc did not improve from 0.88690\n",
      "Epoch 89/100\n",
      "269/269 [==============================] - 93s 345ms/step - loss: 0.2189 - acc: 0.9345 - val_loss: 1.1761 - val_acc: 0.7738\n",
      "\n",
      "Epoch 00089: val_acc did not improve from 0.88690\n",
      "Epoch 90/100\n",
      "269/269 [==============================] - 94s 350ms/step - loss: 0.3290 - acc: 0.8748 - val_loss: 0.6582 - val_acc: 0.8452\n",
      "\n",
      "Epoch 00090: val_acc did not improve from 0.88690\n",
      "Epoch 91/100\n",
      "269/269 [==============================] - 94s 348ms/step - loss: 0.0676 - acc: 0.9807 - val_loss: 0.5990 - val_acc: 0.8750\n",
      "\n",
      "Epoch 00091: val_acc did not improve from 0.88690\n",
      "Epoch 92/100\n",
      "269/269 [==============================] - 94s 350ms/step - loss: 0.0256 - acc: 0.9979 - val_loss: 0.9724 - val_acc: 0.8095\n",
      "\n",
      "Epoch 00092: val_acc did not improve from 0.88690\n",
      "Epoch 93/100\n",
      "269/269 [==============================] - 94s 348ms/step - loss: 0.1657 - acc: 0.9410 - val_loss: 0.5995 - val_acc: 0.8631\n",
      "\n",
      "Epoch 00093: val_acc did not improve from 0.88690\n",
      "Epoch 94/100\n",
      "269/269 [==============================] - 94s 349ms/step - loss: 0.0632 - acc: 0.9873 - val_loss: 0.7206 - val_acc: 0.8095\n",
      "\n",
      "Epoch 00094: val_acc did not improve from 0.88690\n",
      "Epoch 95/100\n",
      "269/269 [==============================] - 94s 348ms/step - loss: 0.0969 - acc: 0.9666 - val_loss: 0.8194 - val_acc: 0.8274\n",
      "\n",
      "Epoch 00095: val_acc did not improve from 0.88690\n",
      "Epoch 96/100\n",
      "269/269 [==============================] - 94s 350ms/step - loss: 0.2073 - acc: 0.9297 - val_loss: 0.9060 - val_acc: 0.8452\n",
      "\n",
      "Epoch 00096: val_acc did not improve from 0.88690\n",
      "Epoch 97/100\n",
      "269/269 [==============================] - 94s 350ms/step - loss: 0.0639 - acc: 0.9772 - val_loss: 0.5903 - val_acc: 0.8690\n",
      "\n",
      "Epoch 00097: val_acc did not improve from 0.88690\n",
      "Epoch 98/100\n",
      "269/269 [==============================] - 94s 350ms/step - loss: 0.0536 - acc: 0.9825 - val_loss: 0.8149 - val_acc: 0.8393\n",
      "\n",
      "Epoch 00098: val_acc did not improve from 0.88690\n",
      "Epoch 99/100\n",
      "269/269 [==============================] - 94s 350ms/step - loss: 0.1064 - acc: 0.9618 - val_loss: 0.9683 - val_acc: 0.7500\n",
      "\n",
      "Epoch 00099: val_acc did not improve from 0.88690\n",
      "Epoch 100/100\n",
      "269/269 [==============================] - 93s 346ms/step - loss: 0.1815 - acc: 0.9439 - val_loss: 0.6365 - val_acc: 0.8690\n",
      "\n",
      "Epoch 00100: val_acc did not improve from 0.88690\n"
     ]
    }
   ],
   "source": [
    "history = model.fit(train,\n",
    "                    validation_data=valid,\n",
    "                    epochs=epochs,\n",
    "                    callbacks=callbacks)"
   ]
  },
  {
   "cell_type": "code",
   "execution_count": 9,
   "metadata": {
    "colab": {
     "base_uri": "https://localhost:8080/"
    },
    "gradient": {
     "editing": false
    },
    "id": "wfPQN-30gTGM",
    "outputId": "c1f73c40-a7e4-4854-b1a4-1fd8b3e42d55"
   },
   "outputs": [],
   "source": [
    "model.save('Model/tari/vgg16-lstm-224-100e-0.86.h5')"
   ]
  },
  {
   "cell_type": "code",
   "execution_count": 10,
   "metadata": {
    "gradient": {
     "editing": false
    },
    "id": "LlnL4bHWdO6h"
   },
   "outputs": [],
   "source": [
    "import matplotlib.pyplot as plt\n",
    "import seaborn as sns\n",
    "%matplotlib inline"
   ]
  },
  {
   "cell_type": "code",
   "execution_count": 11,
   "metadata": {
    "colab": {
     "base_uri": "https://localhost:8080/",
     "height": 295
    },
    "gradient": {
     "editing": false
    },
    "id": "rl4n-balgAWy",
    "outputId": "87379cd0-d3a2-4316-f781-897f32f79940"
   },
   "outputs": [
    {
     "data": {
      "image/png": "[encoded data removed]",
      "text/plain": [
       "<Figure size 432x288 with 1 Axes>"
      ]
     },
     "metadata": {
      "needs_background": "light"
     },
     "output_type": "display_data"
    }
   ],
   "source": [
    "# Summarize history for accuracy\n",
    "plt.plot(history.history['acc'])\n",
    "plt.plot(history.history['val_acc'])\n",
    "plt.title('Model accuracy')\n",
    "plt.ylabel('accuracy')\n",
    "plt.xlabel('epoch')\n",
    "plt.legend(['train', 'test'], loc='upper left')\n",
    "plt.show()"
   ]
  },
  {
   "cell_type": "code",
   "execution_count": 12,
   "metadata": {
    "colab": {
     "base_uri": "https://localhost:8080/",
     "height": 295
    },
    "gradient": {
     "editing": false
    },
    "id": "Ycg3_x_NgFPi",
    "outputId": "e14f030c-4b93-47b0-a20a-550bb7e45791"
   },
   "outputs": [
    {
     "data": {
      "image/png": "[encoded data removed]",
      "text/plain": [
       "<Figure size 432x288 with 1 Axes>"
      ]
     },
     "metadata": {
      "needs_background": "light"
     },
     "output_type": "display_data"
    }
   ],
   "source": [
    "# Summarize history for loss\n",
    "plt.plot(history.history['loss'])\n",
    "plt.plot(history.history['val_loss'])\n",
    "plt.title('Model loss')\n",
    "plt.ylabel('loss')\n",
    "plt.xlabel('epoch')\n",
    "plt.legend(['train', 'test'], loc='upper left')\n",
    "plt.show()"
   ]
  },
  {
   "cell_type": "code",
   "execution_count": 13,
   "metadata": {},
   "outputs": [],
   "source": [
    "# Save history to csv\n",
    "hist_df = pd.DataFrame(history.history)\n",
    "hist_csv_file = 'history_vgg16_lstm_224.csv'\n",
    "with open(hist_csv_file, mode='w') as f:\n",
    "    hist_df.to_csv(f)"
   ]
  },
  {
   "cell_type": "markdown",
   "metadata": {},
   "source": [
    "## Testing"
   ]
  },
  {
   "cell_type": "code",
   "execution_count": 14,
   "metadata": {
    "colab": {
     "base_uri": "https://localhost:8080/"
    },
    "gradient": {
     "editing": false
    },
    "id": "LMUhtx2lvRsc",
    "outputId": "fdc7298f-b5d9-4533-9b69-2d3e62866a25"
   },
   "outputs": [
    {
     "name": "stdout",
     "output_type": "stream",
     "text": [
      "66/66 [==============================] - 18s 267ms/step - loss: 0.8883 - acc: 0.8333\n"
     ]
    },
    {
     "data": {
      "text/plain": [
       "[0.8883464336395264, 0.8333333134651184]"
      ]
     },
     "execution_count": 14,
     "metadata": {},
     "output_type": "execute_result"
    }
   ],
   "source": [
    "model.evaluate(test)"
   ]
  },
  {
   "cell_type": "code",
   "execution_count": 15,
   "metadata": {
    "gradient": {
     "editing": false
    },
    "id": "cG5MaD7Uo5-g"
   },
   "outputs": [],
   "source": [
    "y_test = []\n",
    "y_predict = []\n",
    "for step in range(test.files_count//BS):\n",
    "    X, y = test.next()\n",
    "    prediction = model.predict(X)\n",
    "    y_test.extend(y)\n",
    "    y_predict.extend(prediction)"
   ]
  },
  {
   "cell_type": "code",
   "execution_count": 16,
   "metadata": {
    "gradient": {}
   },
   "outputs": [],
   "source": [
    "y_true = np.argmax(y_test, axis=1)\n",
    "prediction = np.argmax(y_predict, axis=1)"
   ]
  },
  {
   "cell_type": "code",
   "execution_count": 17,
   "metadata": {
    "gradient": {
     "editing": false
    }
   },
   "outputs": [],
   "source": [
    "from sklearn.metrics import accuracy_score, precision_score, recall_score, f1_score, confusion_matrix, classification_report, \\\n",
    "roc_curve, auc"
   ]
  },
  {
   "cell_type": "code",
   "execution_count": 18,
   "metadata": {},
   "outputs": [
    {
     "name": "stdout",
     "output_type": "stream",
     "text": [
      "Accuracy: 0.826\n",
      "Precision: 0.833\n",
      "Recall: 0.827\n",
      "F1 score: 0.823\n"
     ]
    }
   ],
   "source": [
    "# accuracy: (tp + tn) / (p + n)\n",
    "accuracy = accuracy_score(y_true, prediction)\n",
    "print(f'Accuracy: {np.round(accuracy, 3)}')\n",
    "# precision tp / (tp + fp)\n",
    "precision = precision_score(y_true, prediction, average='macro')\n",
    "print(f'Precision: {np.round(precision, 3)}')\n",
    "# recall: tp / (tp + fn)\n",
    "recall = recall_score(y_true, prediction, average='macro')\n",
    "print(f'Recall: {np.round(recall, 3)}')\n",
    "# f1: 2 tp / (2 tp + fp + fn)\n",
    "f1 = f1_score(y_true, prediction, average='macro')\n",
    "print(f'F1 score: {np.round(f1, 3)}')"
   ]
  },
  {
   "cell_type": "markdown",
   "metadata": {},
   "source": [
    "## Discussion"
   ]
  },
  {
   "cell_type": "code",
   "execution_count": 19,
   "metadata": {
    "gradient": {
     "editing": false
    }
   },
   "outputs": [
    {
     "name": "stdout",
     "output_type": "stream",
     "text": [
      "              precision    recall  f1-score   support\n",
      "\n",
      "  Agem_Kanan       0.77      0.89      0.83        19\n",
      "   Agem_Kiri       0.77      0.53      0.62        19\n",
      "      Ngegol       0.75      0.95      0.84        19\n",
      "      Nyalud       0.71      0.79      0.75        19\n",
      "   Nyeregseg       0.94      0.84      0.89        19\n",
      "     Seledet       1.00      1.00      1.00        18\n",
      "   Ulap_Ulap       0.88      0.79      0.83        19\n",
      "\n",
      "    accuracy                           0.83       132\n",
      "   macro avg       0.83      0.83      0.82       132\n",
      "weighted avg       0.83      0.83      0.82       132\n",
      "\n"
     ]
    }
   ],
   "source": [
    "target_names = test.classes\n",
    "print(classification_report(y_true, prediction, target_names=target_names))"
   ]
  },
  {
   "cell_type": "code",
   "execution_count": 20,
   "metadata": {
    "gradient": {
     "editing": false
    }
   },
   "outputs": [
    {
     "data": {
      "text/plain": [
       "<AxesSubplot:>"
      ]
     },
     "execution_count": 20,
     "metadata": {},
     "output_type": "execute_result"
    },
    {
     "data": {
      "image/png": "[encoded data removed]",
      "text/plain": [
       "<Figure size 432x288 with 2 Axes>"
      ]
     },
     "metadata": {
      "needs_background": "light"
     },
     "output_type": "display_data"
    }
   ],
   "source": [
    "matrix = confusion_matrix(y_true, prediction)\n",
    "sns.heatmap(matrix, annot=True, cmap='Blues')"
   ]
  },
  {
   "cell_type": "code",
   "execution_count": 21,
   "metadata": {
    "gradient": {
     "editing": false
    }
   },
   "outputs": [
    {
     "name": "stdout",
     "output_type": "stream",
     "text": [
      "AUC Score : 0.871\n"
     ]
    }
   ],
   "source": [
    "fpr, tpr, _ = roc_curve(y_true, prediction, pos_label=6)\n",
    "auc_score = auc(fpr, tpr)\n",
    "print(f'AUC Score : {np.round(auc_score, 3)}')"
   ]
  },
  {
   "cell_type": "code",
   "execution_count": 22,
   "metadata": {
    "gradient": {
     "editing": false
    }
   },
   "outputs": [
    {
     "data": {
      "image/png": "[encoded data removed]",
      "text/plain": [
       "<Figure size 432x288 with 1 Axes>"
      ]
     },
     "metadata": {
      "needs_background": "light"
     },
     "output_type": "display_data"
    }
   ],
   "source": [
    "plt.plot(fpr, tpr, marker='.')\n",
    "plt.plot([0, 1], [0, 1], color='navy', linestyle='--')\n",
    "plt.xlabel('False Positive Rate')\n",
    "plt.ylabel('True Positive Rate')\n",
    "plt.show()"
   ]
  },
  {
   "cell_type": "markdown",
   "metadata": {
    "gradient": {}
   },
   "source": [
    "## Model from checkpoint"
   ]
  },
  {
   "cell_type": "code",
   "execution_count": 23,
   "metadata": {},
   "outputs": [],
   "source": [
    "from tensorflow.keras.models import load_model"
   ]
  },
  {
   "cell_type": "code",
   "execution_count": 24,
   "metadata": {},
   "outputs": [],
   "source": [
    "ckp_model = load_model('Checkpoint/vgg16-lstm-224.h5')"
   ]
  },
  {
   "cell_type": "code",
   "execution_count": 25,
   "metadata": {},
   "outputs": [
    {
     "name": "stdout",
     "output_type": "stream",
     "text": [
      "66/66 [==============================] - 18s 259ms/step - loss: 0.8023 - acc: 0.8106\n"
     ]
    },
    {
     "data": {
      "text/plain": [
       "[0.8023449778556824, 0.810606062412262]"
      ]
     },
     "execution_count": 25,
     "metadata": {},
     "output_type": "execute_result"
    }
   ],
   "source": [
    "ckp_model.evaluate(test)"
   ]
  },
  {
   "cell_type": "code",
   "execution_count": 26,
   "metadata": {},
   "outputs": [],
   "source": [
    "y_test = []\n",
    "y_predict = []\n",
    "for step in range(test.files_count//BS):\n",
    "    X, y = test.next()\n",
    "    prediction = ckp_model.predict(X)\n",
    "    y_test.extend(y)\n",
    "    y_predict.extend(prediction)"
   ]
  },
  {
   "cell_type": "code",
   "execution_count": 27,
   "metadata": {},
   "outputs": [],
   "source": [
    "y_true = np.argmax(y_test, axis=1)\n",
    "prediction = np.argmax(y_predict, axis=1)"
   ]
  },
  {
   "cell_type": "code",
   "execution_count": 28,
   "metadata": {},
   "outputs": [
    {
     "name": "stdout",
     "output_type": "stream",
     "text": [
      "              precision    recall  f1-score   support\n",
      "\n",
      "  Agem_Kanan       0.88      0.74      0.80        19\n",
      "   Agem_Kiri       0.55      0.58      0.56        19\n",
      "      Ngegol       0.86      0.95      0.90        19\n",
      "      Nyalud       0.81      0.68      0.74        19\n",
      "   Nyeregseg       0.77      0.94      0.85        18\n",
      "     Seledet       1.00      1.00      1.00        19\n",
      "   Ulap_Ulap       0.83      0.79      0.81        19\n",
      "\n",
      "    accuracy                           0.81       132\n",
      "   macro avg       0.81      0.81      0.81       132\n",
      "weighted avg       0.81      0.81      0.81       132\n",
      "\n"
     ]
    }
   ],
   "source": [
    "target_names = test.classes\n",
    "print(classification_report(y_true, prediction, target_names=target_names))"
   ]
  },
  {
   "cell_type": "code",
   "execution_count": 29,
   "metadata": {},
   "outputs": [
    {
     "data": {
      "text/plain": [
       "<AxesSubplot:>"
      ]
     },
     "execution_count": 29,
     "metadata": {},
     "output_type": "execute_result"
    },
    {
     "data": {
      "image/png": "[encoded data removed]",
      "text/plain": [
       "<Figure size 432x288 with 2 Axes>"
      ]
     },
     "metadata": {
      "needs_background": "light"
     },
     "output_type": "display_data"
    }
   ],
   "source": [
    "matrix = confusion_matrix(y_true, prediction)\n",
    "sns.heatmap(matrix, annot=True, cmap='Blues')"
   ]
  },
  {
   "cell_type": "code",
   "execution_count": 30,
   "metadata": {},
   "outputs": [
    {
     "name": "stdout",
     "output_type": "stream",
     "text": [
      "Accuracy: 0.811\n",
      "Precision: 0.814\n",
      "Recall: 0.812\n",
      "F1 score: 0.81\n"
     ]
    }
   ],
   "source": [
    "# accuracy: (tp + tn) / (p + n)\n",
    "accuracy = accuracy_score(y_true, prediction)\n",
    "print(f'Accuracy: {np.round(accuracy, 3)}')\n",
    "# precision tp / (tp + fp)\n",
    "precision = precision_score(y_true, prediction, average='macro')\n",
    "print(f'Precision: {np.round(precision, 3)}')\n",
    "# recall: tp / (tp + fn)\n",
    "recall = recall_score(y_true, prediction, average='macro')\n",
    "print(f'Recall: {np.round(recall, 3)}')\n",
    "# f1: 2 tp / (2 tp + fp + fn)\n",
    "f1 = f1_score(y_true, prediction, average='macro')\n",
    "print(f'F1 score: {np.round(f1, 3)}')"
   ]
  },
  {
   "cell_type": "code",
   "execution_count": 31,
   "metadata": {},
   "outputs": [
    {
     "name": "stdout",
     "output_type": "stream",
     "text": [
      "AUC Score : 0.878\n"
     ]
    }
   ],
   "source": [
    "fpr, tpr, _ = roc_curve(y_true, prediction, pos_label=6)\n",
    "auc_score = auc(fpr, tpr)\n",
    "print(f'AUC Score : {np.round(auc_score, 3)}')"
   ]
  },
  {
   "cell_type": "code",
   "execution_count": 32,
   "metadata": {},
   "outputs": [
    {
     "data": {
      "image/png": "[encoded data removed]",
      "text/plain": [
       "<Figure size 432x288 with 1 Axes>"
      ]
     },
     "metadata": {
      "needs_background": "light"
     },
     "output_type": "display_data"
    }
   ],
   "source": [
    "plt.plot(fpr, tpr, marker='.')\n",
    "plt.plot([0, 1], [0, 1], color='navy', linestyle='--')\n",
    "plt.xlabel('False Positive Rate')\n",
    "plt.ylabel('True Positive Rate')\n",
    "plt.show()"
   ]
  },
  {
   "cell_type": "code",
   "execution_count": null,
   "metadata": {},
   "outputs": [],
   "source": []
  }
 ],
 "metadata": {
  "accelerator": "GPU",
  "colab": {
   "collapsed_sections": [],
   "name": "tari-cnn-lstm.ipynb",
   "provenance": []
  },
  "kernelspec": {
   "display_name": "Python 3 (ipykernel)",
   "language": "python",
   "name": "python3"
  },
  "language_info": {
   "codemirror_mode": {
    "name": "ipython",
    "version": 3
   },
   "file_extension": ".py",
   "mimetype": "text/x-python",
   "name": "python",
   "nbconvert_exporter": "python",
   "pygments_lexer": "ipython3",
   "version": "3.9.6"
  }
 },
 "nbformat": 4,
 "nbformat_minor": 1
}
