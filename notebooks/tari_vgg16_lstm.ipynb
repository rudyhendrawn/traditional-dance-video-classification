{
 "cells": [
  {
   "cell_type": "code",
   "execution_count": 1,
   "metadata": {
    "gradient": {
     "editing": false
    },
    "id": "-wH1ObtaSa37"
   },
   "outputs": [],
   "source": [
    "import os\n",
    "import glob\n",
    "from keras_video import VideoFrameGenerator\n",
    "import numpy as np\n",
    "import pandas as pd"
   ]
  },
  {
   "cell_type": "markdown",
   "metadata": {},
   "source": [
    "## Data Loading and Preprocessing"
   ]
  },
  {
   "cell_type": "code",
   "execution_count": 2,
   "metadata": {
    "colab": {
     "base_uri": "https://localhost:8080/"
    },
    "gradient": {
     "editing": false
    },
    "id": "6ZeDBPMPGGKa",
    "outputId": "1e13407f-7ea2-4cc0-ddcb-0092cd9e9df5"
   },
   "outputs": [
    {
     "name": "stdout",
     "output_type": "stream",
     "text": [
      "class Agem_Kanan, validation count: 24, test count: 19, train count: 77\n",
      "class Agem_Kiri, validation count: 24, test count: 19, train count: 77\n",
      "class Ngegol, validation count: 24, test count: 19, train count: 77\n",
      "class Nyalud, validation count: 24, test count: 19, train count: 77\n",
      "class Nyeregseg, validation count: 24, test count: 19, train count: 77\n",
      "class Seledet, validation count: 24, test count: 19, train count: 77\n",
      "class Ulap_Ulap, validation count: 24, test count: 19, train count: 77\n",
      "Total data: 7 classes for 539 files for train\n"
     ]
    }
   ],
   "source": [
    "# Use sub directories names as classes\n",
    "classes = [i.split(os.path.sep)[1] for i in glob.glob('Dataset/*')]\n",
    "classes.sort()\n",
    "\n",
    "# Some global params\n",
    "SIZE = (128, 128)    # Image size\n",
    "CHANNELS = 3         # Color channel\n",
    "NBFRAME = 30         # Frames per video\n",
    "BS = 2               # Batch size\n",
    "\n",
    "# Pattern to get videos and classes\n",
    "glob_pattern = 'Dataset/{classname}/*.mp4'\n",
    "\n",
    "# Create video frame generator\n",
    "train = VideoFrameGenerator(\n",
    "    classes=classes, \n",
    "    glob_pattern=glob_pattern,\n",
    "    nb_frames=NBFRAME,\n",
    "    split_val=.20,\n",
    "    split_test=.20, \n",
    "    shuffle=True,\n",
    "    batch_size=BS,\n",
    "    target_shape=SIZE,\n",
    "    nb_channel=CHANNELS,\n",
    "    transformation=None, # Data Augmentation\n",
    "    use_frame_cache=False,\n",
    "    seed=42)"
   ]
  },
  {
   "cell_type": "code",
   "execution_count": 3,
   "metadata": {
    "colab": {
     "base_uri": "https://localhost:8080/"
    },
    "gradient": {
     "editing": false
    },
    "id": "gtsGjKY0GaCh",
    "outputId": "e7847831-e5e5-4f1b-bea4-86427a3a95e0"
   },
   "outputs": [
    {
     "name": "stdout",
     "output_type": "stream",
     "text": [
      "Total data: 7 classes for 168 files for validation\n",
      "Total data: 7 classes for 133 files for test\n"
     ]
    }
   ],
   "source": [
    "valid = train.get_validation_generator()\n",
    "test = train.get_test_generator()"
   ]
  },
  {
   "cell_type": "code",
   "execution_count": 4,
   "metadata": {
    "gradient": {
     "editing": false
    },
    "id": "WnIA128SH7SV"
   },
   "outputs": [],
   "source": [
    "from tensorflow.keras.layers import GlobalAveragePooling2D, LSTM, Dense, Dropout, TimeDistributed\n",
    "from tensorflow.keras.models import Sequential\n",
    "from tensorflow.keras.callbacks import EarlyStopping, ModelCheckpoint\n",
    "from tensorflow.keras.applications.vgg16 import VGG16"
   ]
  },
  {
   "cell_type": "code",
   "execution_count": 5,
   "metadata": {
    "gradient": {
     "editing": false
    },
    "id": "KSJCkgRuZr26"
   },
   "outputs": [],
   "source": [
    "input_shape = (NBFRAME,) + SIZE + (CHANNELS,)"
   ]
  },
  {
   "cell_type": "code",
   "execution_count": 6,
   "metadata": {
    "colab": {
     "base_uri": "https://localhost:8080/"
    },
    "gradient": {
     "editing": false
    },
    "id": "-V2y7tc5ZGKZ",
    "outputId": "9de546b6-f347-432a-db17-46c91cd7f437",
    "scrolled": false
   },
   "outputs": [
    {
     "name": "stdout",
     "output_type": "stream",
     "text": [
      "Downloading data from https://storage.googleapis.com/tensorflow/keras-applications/vgg16/vgg16_weights_tf_dim_ordering_tf_kernels_notop.h5\n",
      "58892288/58889256 [==============================] - 0s 0us/step\n",
      "Model: \"sequential\"\n",
      "_________________________________________________________________\n",
      "Layer (type)                 Output Shape              Param #   \n",
      "=================================================================\n",
      "time_distributed (TimeDistri (None, 30, 4, 4, 512)     14714688  \n",
      "_________________________________________________________________\n",
      "time_distributed_1 (TimeDist (None, 30, 512)           0         \n",
      "_________________________________________________________________\n",
      "lstm (LSTM)                  (None, 256)               787456    \n",
      "_________________________________________________________________\n",
      "dense (Dense)                (None, 1024)              263168    \n",
      "_________________________________________________________________\n",
      "dropout (Dropout)            (None, 1024)              0         \n",
      "_________________________________________________________________\n",
      "dense_1 (Dense)              (None, 7)                 7175      \n",
      "=================================================================\n",
      "Total params: 15,772,487\n",
      "Trainable params: 1,057,799\n",
      "Non-trainable params: 14,714,688\n",
      "_________________________________________________________________\n"
     ]
    }
   ],
   "source": [
    "# Define VGG16 model\n",
    "model_vgg16 = VGG16(weights='imagenet', include_top=False, input_shape=input_shape[1:])\n",
    "model_vgg16.trainable = False\n",
    "\n",
    "model = Sequential()\n",
    "\n",
    "model.add(TimeDistributed(model_vgg16, input_shape=input_shape))\n",
    "model.add(TimeDistributed(GlobalAveragePooling2D()))\n",
    "\n",
    "# Define LSTM model\n",
    "model.add(LSTM(256))\n",
    "\n",
    "# Dense layer\n",
    "model.add(Dense(1024, activation='relu'))\n",
    "model.add(Dropout(.2))\n",
    "model.add(Dense(int(len(classes)), activation='softmax'))\n",
    "\n",
    "model.summary()"
   ]
  },
  {
   "cell_type": "code",
   "execution_count": 7,
   "metadata": {
    "gradient": {
     "editing": false
    },
    "id": "vepOE_YtJM0n"
   },
   "outputs": [],
   "source": [
    "epochs = 100\n",
    "\n",
    "earlystop = EarlyStopping(monitor='loss', patience=10)\n",
    "checkpoint = ModelCheckpoint('Checkpoint/vgg16-lstm.h5', monitor='val_acc', save_best_only=True, mode='max', verbose=1)\n",
    "\n",
    "callbacks = [earlystop, checkpoint]\n",
    "\n",
    "model.compile(optimizer='adam',\n",
    "              loss='categorical_crossentropy',\n",
    "              metrics=['acc'])"
   ]
  },
  {
   "cell_type": "code",
   "execution_count": 8,
   "metadata": {
    "colab": {
     "base_uri": "https://localhost:8080/"
    },
    "gradient": {
     "editing": false
    },
    "id": "dIdB2HptKLP4",
    "outputId": "af61424e-b514-47c3-86f1-2030985f333c",
    "scrolled": true
   },
   "outputs": [
    {
     "name": "stdout",
     "output_type": "stream",
     "text": [
      "Epoch 1/100\n",
      "269/269 [==============================] - 86s 275ms/step - loss: 1.9273 - acc: 0.1653 - val_loss: 1.5761 - val_acc: 0.2857\n",
      "\n",
      "Epoch 00001: val_acc improved from -inf to 0.28571, saving model to Checkpoint/vgg16-lstm.h5\n",
      "Epoch 2/100\n",
      "269/269 [==============================] - 68s 253ms/step - loss: 1.5526 - acc: 0.2877 - val_loss: 1.5472 - val_acc: 0.2857\n",
      "\n",
      "Epoch 00002: val_acc did not improve from 0.28571\n",
      "Epoch 3/100\n",
      "269/269 [==============================] - 68s 252ms/step - loss: 1.5369 - acc: 0.3067 - val_loss: 1.6913 - val_acc: 0.2440\n",
      "\n",
      "Epoch 00003: val_acc did not improve from 0.28571\n",
      "Epoch 4/100\n",
      "269/269 [==============================] - 68s 252ms/step - loss: 1.5375 - acc: 0.3142 - val_loss: 1.5901 - val_acc: 0.2857\n",
      "\n",
      "Epoch 00004: val_acc did not improve from 0.28571\n",
      "Epoch 5/100\n",
      "269/269 [==============================] - 68s 252ms/step - loss: 1.4572 - acc: 0.3852 - val_loss: 1.3509 - val_acc: 0.3929\n",
      "\n",
      "Epoch 00005: val_acc improved from 0.28571 to 0.39286, saving model to Checkpoint/vgg16-lstm.h5\n",
      "Epoch 6/100\n",
      "269/269 [==============================] - 67s 251ms/step - loss: 1.3483 - acc: 0.3985 - val_loss: 1.2086 - val_acc: 0.4643\n",
      "\n",
      "Epoch 00006: val_acc improved from 0.39286 to 0.46429, saving model to Checkpoint/vgg16-lstm.h5\n",
      "Epoch 7/100\n",
      "269/269 [==============================] - 68s 252ms/step - loss: 1.2181 - acc: 0.4639 - val_loss: 1.3030 - val_acc: 0.3869\n",
      "\n",
      "Epoch 00007: val_acc did not improve from 0.46429\n",
      "Epoch 8/100\n",
      "269/269 [==============================] - 67s 251ms/step - loss: 1.1750 - acc: 0.4444 - val_loss: 1.3986 - val_acc: 0.3750\n",
      "\n",
      "Epoch 00008: val_acc did not improve from 0.46429\n",
      "Epoch 9/100\n",
      "269/269 [==============================] - 68s 251ms/step - loss: 1.1268 - acc: 0.5161 - val_loss: 1.1574 - val_acc: 0.5000\n",
      "\n",
      "Epoch 00009: val_acc improved from 0.46429 to 0.50000, saving model to Checkpoint/vgg16-lstm.h5\n",
      "Epoch 10/100\n",
      "269/269 [==============================] - 68s 252ms/step - loss: 1.0843 - acc: 0.5492 - val_loss: 1.4071 - val_acc: 0.3988\n",
      "\n",
      "Epoch 00010: val_acc did not improve from 0.50000\n",
      "Epoch 11/100\n",
      "269/269 [==============================] - 68s 252ms/step - loss: 1.0666 - acc: 0.5649 - val_loss: 1.1390 - val_acc: 0.5000\n",
      "\n",
      "Epoch 00011: val_acc did not improve from 0.50000\n",
      "Epoch 12/100\n",
      "269/269 [==============================] - 68s 252ms/step - loss: 1.0408 - acc: 0.5791 - val_loss: 1.1761 - val_acc: 0.5595\n",
      "\n",
      "Epoch 00012: val_acc improved from 0.50000 to 0.55952, saving model to Checkpoint/vgg16-lstm.h5\n",
      "Epoch 13/100\n",
      "269/269 [==============================] - 68s 252ms/step - loss: 0.9437 - acc: 0.5879 - val_loss: 1.0981 - val_acc: 0.5298\n",
      "\n",
      "Epoch 00013: val_acc did not improve from 0.55952\n",
      "Epoch 14/100\n",
      "269/269 [==============================] - 68s 251ms/step - loss: 0.9154 - acc: 0.5883 - val_loss: 1.1477 - val_acc: 0.5476\n",
      "\n",
      "Epoch 00014: val_acc did not improve from 0.55952\n",
      "Epoch 15/100\n",
      "269/269 [==============================] - 68s 252ms/step - loss: 0.8199 - acc: 0.6684 - val_loss: 0.9585 - val_acc: 0.6190\n",
      "\n",
      "Epoch 00015: val_acc improved from 0.55952 to 0.61905, saving model to Checkpoint/vgg16-lstm.h5\n",
      "Epoch 16/100\n",
      "269/269 [==============================] - 68s 252ms/step - loss: 0.8816 - acc: 0.6340 - val_loss: 1.1479 - val_acc: 0.5833\n",
      "\n",
      "Epoch 00016: val_acc did not improve from 0.61905\n",
      "Epoch 17/100\n",
      "269/269 [==============================] - 68s 252ms/step - loss: 0.8026 - acc: 0.6664 - val_loss: 1.0065 - val_acc: 0.5893\n",
      "\n",
      "Epoch 00017: val_acc did not improve from 0.61905\n",
      "Epoch 18/100\n",
      "269/269 [==============================] - 68s 251ms/step - loss: 0.7569 - acc: 0.6752 - val_loss: 0.9041 - val_acc: 0.6667\n",
      "\n",
      "Epoch 00018: val_acc improved from 0.61905 to 0.66667, saving model to Checkpoint/vgg16-lstm.h5\n",
      "Epoch 19/100\n",
      "269/269 [==============================] - 67s 251ms/step - loss: 0.6359 - acc: 0.7354 - val_loss: 1.0287 - val_acc: 0.6131\n",
      "\n",
      "Epoch 00019: val_acc did not improve from 0.66667\n",
      "Epoch 20/100\n",
      "269/269 [==============================] - 68s 252ms/step - loss: 0.7190 - acc: 0.6880 - val_loss: 1.2475 - val_acc: 0.5714\n",
      "\n",
      "Epoch 00020: val_acc did not improve from 0.66667\n",
      "Epoch 21/100\n",
      "269/269 [==============================] - 68s 252ms/step - loss: 0.6490 - acc: 0.7239 - val_loss: 1.0218 - val_acc: 0.6190\n",
      "\n",
      "Epoch 00021: val_acc did not improve from 0.66667\n",
      "Epoch 22/100\n",
      "269/269 [==============================] - 67s 251ms/step - loss: 0.6646 - acc: 0.7354 - val_loss: 0.8868 - val_acc: 0.6726\n",
      "\n",
      "Epoch 00022: val_acc improved from 0.66667 to 0.67262, saving model to Checkpoint/vgg16-lstm.h5\n",
      "Epoch 23/100\n",
      "269/269 [==============================] - 68s 252ms/step - loss: 0.6504 - acc: 0.7414 - val_loss: 0.9805 - val_acc: 0.6488\n",
      "\n",
      "Epoch 00023: val_acc did not improve from 0.67262\n",
      "Epoch 24/100\n",
      "269/269 [==============================] - 68s 251ms/step - loss: 0.5598 - acc: 0.7690 - val_loss: 0.9375 - val_acc: 0.6310\n",
      "\n",
      "Epoch 00024: val_acc did not improve from 0.67262\n",
      "Epoch 25/100\n",
      "269/269 [==============================] - 68s 252ms/step - loss: 0.5869 - acc: 0.7499 - val_loss: 0.8761 - val_acc: 0.6845\n",
      "\n",
      "Epoch 00025: val_acc improved from 0.67262 to 0.68452, saving model to Checkpoint/vgg16-lstm.h5\n",
      "Epoch 26/100\n",
      "269/269 [==============================] - 68s 251ms/step - loss: 0.4796 - acc: 0.7903 - val_loss: 0.9757 - val_acc: 0.7143\n",
      "\n",
      "Epoch 00026: val_acc improved from 0.68452 to 0.71429, saving model to Checkpoint/vgg16-lstm.h5\n",
      "Epoch 27/100\n",
      "269/269 [==============================] - 67s 250ms/step - loss: 0.4647 - acc: 0.8234 - val_loss: 0.8108 - val_acc: 0.7202\n",
      "\n",
      "Epoch 00027: val_acc improved from 0.71429 to 0.72024, saving model to Checkpoint/vgg16-lstm.h5\n",
      "Epoch 28/100\n",
      "269/269 [==============================] - 68s 251ms/step - loss: 0.4772 - acc: 0.8134 - val_loss: 0.7556 - val_acc: 0.7381\n",
      "\n",
      "Epoch 00028: val_acc improved from 0.72024 to 0.73810, saving model to Checkpoint/vgg16-lstm.h5\n",
      "Epoch 29/100\n",
      "269/269 [==============================] - 68s 253ms/step - loss: 0.4868 - acc: 0.7789 - val_loss: 0.9876 - val_acc: 0.6667\n",
      "\n",
      "Epoch 00029: val_acc did not improve from 0.73810\n",
      "Epoch 30/100\n",
      "269/269 [==============================] - 68s 251ms/step - loss: 0.4594 - acc: 0.8420 - val_loss: 0.8644 - val_acc: 0.7202\n",
      "\n",
      "Epoch 00030: val_acc did not improve from 0.73810\n",
      "Epoch 31/100\n",
      "269/269 [==============================] - 67s 250ms/step - loss: 0.4510 - acc: 0.8386 - val_loss: 0.8826 - val_acc: 0.6905\n",
      "\n",
      "Epoch 00031: val_acc did not improve from 0.73810\n",
      "Epoch 32/100\n",
      "269/269 [==============================] - 67s 250ms/step - loss: 0.4090 - acc: 0.8255 - val_loss: 0.9702 - val_acc: 0.6786\n",
      "\n",
      "Epoch 00032: val_acc did not improve from 0.73810\n",
      "Epoch 33/100\n",
      "269/269 [==============================] - 68s 252ms/step - loss: 0.3896 - acc: 0.8577 - val_loss: 0.8780 - val_acc: 0.6607\n",
      "\n",
      "Epoch 00033: val_acc did not improve from 0.73810\n",
      "Epoch 34/100\n",
      "269/269 [==============================] - 68s 253ms/step - loss: 0.4443 - acc: 0.8174 - val_loss: 0.8642 - val_acc: 0.7381\n",
      "\n",
      "Epoch 00034: val_acc did not improve from 0.73810\n",
      "Epoch 35/100\n",
      "269/269 [==============================] - 68s 251ms/step - loss: 0.3222 - acc: 0.8562 - val_loss: 0.7791 - val_acc: 0.7143\n",
      "\n",
      "Epoch 00035: val_acc did not improve from 0.73810\n",
      "Epoch 36/100\n",
      "269/269 [==============================] - 68s 253ms/step - loss: 0.3385 - acc: 0.8772 - val_loss: 0.9247 - val_acc: 0.7440\n",
      "\n",
      "Epoch 00036: val_acc improved from 0.73810 to 0.74405, saving model to Checkpoint/vgg16-lstm.h5\n",
      "Epoch 37/100\n",
      "269/269 [==============================] - 68s 252ms/step - loss: 0.3293 - acc: 0.8715 - val_loss: 0.8250 - val_acc: 0.7202\n",
      "\n",
      "Epoch 00037: val_acc did not improve from 0.74405\n",
      "Epoch 38/100\n",
      "269/269 [==============================] - 68s 252ms/step - loss: 0.3166 - acc: 0.8599 - val_loss: 1.0141 - val_acc: 0.6905\n",
      "\n",
      "Epoch 00038: val_acc did not improve from 0.74405\n",
      "Epoch 39/100\n",
      "269/269 [==============================] - 68s 252ms/step - loss: 0.4042 - acc: 0.8594 - val_loss: 0.9388 - val_acc: 0.7381\n",
      "\n",
      "Epoch 00039: val_acc did not improve from 0.74405\n",
      "Epoch 40/100\n",
      "269/269 [==============================] - 68s 252ms/step - loss: 0.2920 - acc: 0.8738 - val_loss: 0.9495 - val_acc: 0.7202\n",
      "\n",
      "Epoch 00040: val_acc did not improve from 0.74405\n",
      "Epoch 41/100\n",
      "269/269 [==============================] - 68s 253ms/step - loss: 0.2687 - acc: 0.8867 - val_loss: 1.0535 - val_acc: 0.7440\n",
      "\n",
      "Epoch 00041: val_acc did not improve from 0.74405\n",
      "Epoch 42/100\n",
      "269/269 [==============================] - 67s 250ms/step - loss: 0.2627 - acc: 0.8938 - val_loss: 0.8208 - val_acc: 0.7798\n",
      "\n",
      "Epoch 00042: val_acc improved from 0.74405 to 0.77976, saving model to Checkpoint/vgg16-lstm.h5\n",
      "Epoch 43/100\n",
      "269/269 [==============================] - 68s 252ms/step - loss: 0.3085 - acc: 0.8837 - val_loss: 1.1554 - val_acc: 0.6905\n",
      "\n",
      "Epoch 00043: val_acc did not improve from 0.77976\n",
      "Epoch 44/100\n",
      "269/269 [==============================] - 68s 251ms/step - loss: 0.2939 - acc: 0.8868 - val_loss: 0.9261 - val_acc: 0.7619\n",
      "\n",
      "Epoch 00044: val_acc did not improve from 0.77976\n",
      "Epoch 45/100\n",
      "269/269 [==============================] - 68s 251ms/step - loss: 0.2377 - acc: 0.9230 - val_loss: 0.8125 - val_acc: 0.7798\n",
      "\n",
      "Epoch 00045: val_acc did not improve from 0.77976\n",
      "Epoch 46/100\n",
      "269/269 [==============================] - 68s 251ms/step - loss: 0.2510 - acc: 0.9036 - val_loss: 0.8639 - val_acc: 0.7738\n",
      "\n",
      "Epoch 00046: val_acc did not improve from 0.77976\n",
      "Epoch 47/100\n",
      "269/269 [==============================] - 68s 251ms/step - loss: 0.1543 - acc: 0.9293 - val_loss: 1.2021 - val_acc: 0.6786\n",
      "\n",
      "Epoch 00047: val_acc did not improve from 0.77976\n",
      "Epoch 48/100\n",
      "269/269 [==============================] - 68s 252ms/step - loss: 0.3217 - acc: 0.8746 - val_loss: 0.6925 - val_acc: 0.7619\n",
      "\n",
      "Epoch 00048: val_acc did not improve from 0.77976\n",
      "Epoch 49/100\n",
      "269/269 [==============================] - 68s 251ms/step - loss: 0.2257 - acc: 0.9154 - val_loss: 1.0247 - val_acc: 0.7202\n",
      "\n",
      "Epoch 00049: val_acc did not improve from 0.77976\n",
      "Epoch 50/100\n",
      "269/269 [==============================] - 67s 250ms/step - loss: 0.2670 - acc: 0.8965 - val_loss: 0.7662 - val_acc: 0.7738\n",
      "\n",
      "Epoch 00050: val_acc did not improve from 0.77976\n",
      "Epoch 51/100\n",
      "269/269 [==============================] - 69s 258ms/step - loss: 0.2490 - acc: 0.8968 - val_loss: 0.7311 - val_acc: 0.8095\n",
      "\n",
      "Epoch 00051: val_acc improved from 0.77976 to 0.80952, saving model to Checkpoint/vgg16-lstm.h5\n",
      "Epoch 52/100\n",
      "269/269 [==============================] - 68s 251ms/step - loss: 0.1543 - acc: 0.9417 - val_loss: 0.9481 - val_acc: 0.7619\n",
      "\n",
      "Epoch 00052: val_acc did not improve from 0.80952\n",
      "Epoch 53/100\n",
      "269/269 [==============================] - 68s 251ms/step - loss: 0.2495 - acc: 0.9073 - val_loss: 1.1942 - val_acc: 0.7143\n",
      "\n",
      "Epoch 00053: val_acc did not improve from 0.80952\n",
      "Epoch 54/100\n",
      "269/269 [==============================] - 68s 251ms/step - loss: 0.2849 - acc: 0.8867 - val_loss: 1.1996 - val_acc: 0.7083\n",
      "\n",
      "Epoch 00054: val_acc did not improve from 0.80952\n",
      "Epoch 55/100\n",
      "269/269 [==============================] - 68s 253ms/step - loss: 0.4689 - acc: 0.8565 - val_loss: 0.7382 - val_acc: 0.7917\n",
      "\n",
      "Epoch 00055: val_acc did not improve from 0.80952\n",
      "Epoch 56/100\n",
      "269/269 [==============================] - 68s 253ms/step - loss: 0.1641 - acc: 0.9475 - val_loss: 0.8895 - val_acc: 0.7679\n",
      "\n",
      "Epoch 00056: val_acc did not improve from 0.80952\n",
      "Epoch 57/100\n",
      "269/269 [==============================] - 68s 254ms/step - loss: 0.1773 - acc: 0.9416 - val_loss: 0.8435 - val_acc: 0.7857\n",
      "\n",
      "Epoch 00057: val_acc did not improve from 0.80952\n",
      "Epoch 58/100\n",
      "269/269 [==============================] - 68s 252ms/step - loss: 0.1945 - acc: 0.9313 - val_loss: 0.7598 - val_acc: 0.8274\n",
      "\n",
      "Epoch 00058: val_acc improved from 0.80952 to 0.82738, saving model to Checkpoint/vgg16-lstm.h5\n",
      "Epoch 59/100\n",
      "269/269 [==============================] - 68s 251ms/step - loss: 0.1434 - acc: 0.9536 - val_loss: 0.9170 - val_acc: 0.7857\n",
      "\n",
      "Epoch 00059: val_acc did not improve from 0.82738\n",
      "Epoch 60/100\n",
      "269/269 [==============================] - 68s 252ms/step - loss: 0.1298 - acc: 0.9533 - val_loss: 0.9449 - val_acc: 0.7619\n",
      "\n",
      "Epoch 00060: val_acc did not improve from 0.82738\n",
      "Epoch 61/100\n",
      "269/269 [==============================] - 67s 251ms/step - loss: 0.2536 - acc: 0.9179 - val_loss: 0.8065 - val_acc: 0.8095\n",
      "\n",
      "Epoch 00061: val_acc did not improve from 0.82738\n",
      "Epoch 62/100\n",
      "269/269 [==============================] - 67s 250ms/step - loss: 0.3032 - acc: 0.8954 - val_loss: 0.9321 - val_acc: 0.7143\n",
      "\n",
      "Epoch 00062: val_acc did not improve from 0.82738\n",
      "Epoch 63/100\n",
      "269/269 [==============================] - 68s 252ms/step - loss: 0.2741 - acc: 0.8972 - val_loss: 0.7069 - val_acc: 0.8214\n",
      "\n",
      "Epoch 00063: val_acc did not improve from 0.82738\n",
      "Epoch 64/100\n",
      "269/269 [==============================] - 68s 251ms/step - loss: 0.1189 - acc: 0.9495 - val_loss: 0.7731 - val_acc: 0.8393\n",
      "\n",
      "Epoch 00064: val_acc improved from 0.82738 to 0.83929, saving model to Checkpoint/vgg16-lstm.h5\n",
      "Epoch 65/100\n",
      "269/269 [==============================] - 68s 251ms/step - loss: 0.1330 - acc: 0.9372 - val_loss: 1.2765 - val_acc: 0.7381\n",
      "\n",
      "Epoch 00065: val_acc did not improve from 0.83929\n",
      "Epoch 66/100\n",
      "269/269 [==============================] - 68s 251ms/step - loss: 0.3194 - acc: 0.8971 - val_loss: 0.8089 - val_acc: 0.7976\n",
      "\n",
      "Epoch 00066: val_acc did not improve from 0.83929\n",
      "Epoch 67/100\n",
      "269/269 [==============================] - 68s 251ms/step - loss: 0.1305 - acc: 0.9408 - val_loss: 0.8630 - val_acc: 0.8036\n",
      "\n",
      "Epoch 00067: val_acc did not improve from 0.83929\n",
      "Epoch 68/100\n",
      "269/269 [==============================] - 68s 252ms/step - loss: 0.1213 - acc: 0.9453 - val_loss: 0.7621 - val_acc: 0.8274\n",
      "\n",
      "Epoch 00068: val_acc did not improve from 0.83929\n",
      "Epoch 69/100\n",
      "269/269 [==============================] - 68s 251ms/step - loss: 0.1528 - acc: 0.9405 - val_loss: 0.7180 - val_acc: 0.8036\n",
      "\n",
      "Epoch 00069: val_acc did not improve from 0.83929\n",
      "Epoch 70/100\n",
      "269/269 [==============================] - 67s 250ms/step - loss: 0.1528 - acc: 0.9366 - val_loss: 1.3451 - val_acc: 0.7202\n",
      "\n",
      "Epoch 00070: val_acc did not improve from 0.83929\n",
      "Epoch 71/100\n",
      "269/269 [==============================] - 68s 252ms/step - loss: 0.3263 - acc: 0.9042 - val_loss: 0.7972 - val_acc: 0.8155\n",
      "\n",
      "Epoch 00071: val_acc did not improve from 0.83929\n",
      "Epoch 72/100\n",
      "269/269 [==============================] - 68s 251ms/step - loss: 0.1378 - acc: 0.9585 - val_loss: 0.7609 - val_acc: 0.8333\n",
      "\n",
      "Epoch 00072: val_acc did not improve from 0.83929\n",
      "Epoch 73/100\n",
      "269/269 [==============================] - 68s 252ms/step - loss: 0.1288 - acc: 0.9424 - val_loss: 0.7450 - val_acc: 0.8095\n",
      "\n",
      "Epoch 00073: val_acc did not improve from 0.83929\n",
      "Epoch 74/100\n",
      "269/269 [==============================] - 68s 252ms/step - loss: 0.1481 - acc: 0.9566 - val_loss: 1.7864 - val_acc: 0.6964\n",
      "\n",
      "Epoch 00074: val_acc did not improve from 0.83929\n",
      "Epoch 75/100\n",
      "269/269 [==============================] - 67s 251ms/step - loss: 0.3120 - acc: 0.8888 - val_loss: 0.8464 - val_acc: 0.7976\n",
      "\n",
      "Epoch 00075: val_acc did not improve from 0.83929\n",
      "Epoch 76/100\n",
      "269/269 [==============================] - 67s 250ms/step - loss: 0.0770 - acc: 0.9810 - val_loss: 0.9017 - val_acc: 0.8095\n",
      "\n",
      "Epoch 00076: val_acc did not improve from 0.83929\n",
      "Epoch 77/100\n",
      "269/269 [==============================] - 67s 251ms/step - loss: 0.0925 - acc: 0.9702 - val_loss: 0.7912 - val_acc: 0.8393\n",
      "\n",
      "Epoch 00077: val_acc did not improve from 0.83929\n",
      "Epoch 78/100\n",
      "269/269 [==============================] - 67s 251ms/step - loss: 0.0980 - acc: 0.9691 - val_loss: 0.8791 - val_acc: 0.8155\n",
      "\n",
      "Epoch 00078: val_acc did not improve from 0.83929\n",
      "Epoch 79/100\n",
      "269/269 [==============================] - 68s 252ms/step - loss: 0.0964 - acc: 0.9608 - val_loss: 1.0587 - val_acc: 0.7679\n",
      "\n",
      "Epoch 00079: val_acc did not improve from 0.83929\n",
      "Epoch 80/100\n",
      "269/269 [==============================] - 67s 250ms/step - loss: 0.1328 - acc: 0.9670 - val_loss: 0.8881 - val_acc: 0.7679\n",
      "\n",
      "Epoch 00080: val_acc did not improve from 0.83929\n",
      "Epoch 81/100\n",
      "269/269 [==============================] - 67s 251ms/step - loss: 0.1081 - acc: 0.9588 - val_loss: 1.0836 - val_acc: 0.7679\n",
      "\n",
      "Epoch 00081: val_acc did not improve from 0.83929\n",
      "Epoch 82/100\n",
      "269/269 [==============================] - 68s 251ms/step - loss: 0.1071 - acc: 0.9603 - val_loss: 1.0786 - val_acc: 0.7619\n",
      "\n",
      "Epoch 00082: val_acc did not improve from 0.83929\n",
      "Epoch 83/100\n",
      "269/269 [==============================] - 68s 251ms/step - loss: 0.1464 - acc: 0.9517 - val_loss: 0.7198 - val_acc: 0.8631\n"
     ]
    },
    {
     "name": "stdout",
     "output_type": "stream",
     "text": [
      "\n",
      "Epoch 00083: val_acc improved from 0.83929 to 0.86310, saving model to Checkpoint/vgg16-lstm.h5\n",
      "Epoch 84/100\n",
      "269/269 [==============================] - 67s 250ms/step - loss: 0.0493 - acc: 0.9831 - val_loss: 1.0522 - val_acc: 0.7857\n",
      "\n",
      "Epoch 00084: val_acc did not improve from 0.86310\n",
      "Epoch 85/100\n",
      "269/269 [==============================] - 67s 250ms/step - loss: 0.2997 - acc: 0.9169 - val_loss: 0.6840 - val_acc: 0.8393\n",
      "\n",
      "Epoch 00085: val_acc did not improve from 0.86310\n",
      "Epoch 86/100\n",
      "269/269 [==============================] - 67s 250ms/step - loss: 0.0631 - acc: 0.9755 - val_loss: 0.8256 - val_acc: 0.8274\n",
      "\n",
      "Epoch 00086: val_acc did not improve from 0.86310\n"
     ]
    }
   ],
   "source": [
    "history = model.fit(train,\n",
    "                    validation_data=valid,\n",
    "                    epochs=epochs,\n",
    "                    callbacks=callbacks)"
   ]
  },
  {
   "cell_type": "code",
   "execution_count": 9,
   "metadata": {
    "colab": {
     "base_uri": "https://localhost:8080/"
    },
    "gradient": {
     "editing": false
    },
    "id": "wfPQN-30gTGM",
    "outputId": "c1f73c40-a7e4-4854-b1a4-1fd8b3e42d55"
   },
   "outputs": [],
   "source": [
    "model.save('Model/tari/vgg16-lstm-86e-0.82.h5')"
   ]
  },
  {
   "cell_type": "code",
   "execution_count": 10,
   "metadata": {
    "gradient": {
     "editing": false
    },
    "id": "LlnL4bHWdO6h"
   },
   "outputs": [],
   "source": [
    "import matplotlib.pyplot as plt\n",
    "import seaborn as sns\n",
    "%matplotlib inline"
   ]
  },
  {
   "cell_type": "code",
   "execution_count": 11,
   "metadata": {
    "colab": {
     "base_uri": "https://localhost:8080/",
     "height": 295
    },
    "gradient": {
     "editing": false
    },
    "id": "rl4n-balgAWy",
    "outputId": "87379cd0-d3a2-4316-f781-897f32f79940"
   },
   "outputs": [
    {
     "data": {
      "image/png": "[encoded data removed]",
      "text/plain": [
       "<Figure size 432x288 with 1 Axes>"
      ]
     },
     "metadata": {
      "needs_background": "light"
     },
     "output_type": "display_data"
    }
   ],
   "source": [
    "# Summarize history for accuracy\n",
    "plt.plot(history.history['acc'])\n",
    "plt.plot(history.history['val_acc'])\n",
    "plt.title('Model accuracy')\n",
    "plt.ylabel('accuracy')\n",
    "plt.xlabel('epoch')\n",
    "plt.legend(['train', 'test'], loc='upper left')\n",
    "plt.show()"
   ]
  },
  {
   "cell_type": "code",
   "execution_count": 12,
   "metadata": {
    "colab": {
     "base_uri": "https://localhost:8080/",
     "height": 295
    },
    "gradient": {
     "editing": false
    },
    "id": "Ycg3_x_NgFPi",
    "outputId": "e14f030c-4b93-47b0-a20a-550bb7e45791"
   },
   "outputs": [
    {
     "data": {
      "image/png": "[encoded data removed]",
      "text/plain": [
       "<Figure size 432x288 with 1 Axes>"
      ]
     },
     "metadata": {
      "needs_background": "light"
     },
     "output_type": "display_data"
    }
   ],
   "source": [
    "# Summarize history for loss\n",
    "plt.plot(history.history['loss'])\n",
    "plt.plot(history.history['val_loss'])\n",
    "plt.title('Model loss')\n",
    "plt.ylabel('loss')\n",
    "plt.xlabel('epoch')\n",
    "plt.legend(['train', 'test'], loc='upper left')\n",
    "plt.show()"
   ]
  },
  {
   "cell_type": "code",
   "execution_count": 13,
   "metadata": {},
   "outputs": [],
   "source": [
    "# Save history to csv\n",
    "hist_df = pd.DataFrame(history.history)\n",
    "hist_csv_file = 'history_vgg16_lstm.csv'\n",
    "with open(hist_csv_file, mode='w') as f:\n",
    "    hist_df.to_csv(f)"
   ]
  },
  {
   "cell_type": "markdown",
   "metadata": {},
   "source": [
    "## Testing"
   ]
  },
  {
   "cell_type": "code",
   "execution_count": 14,
   "metadata": {
    "colab": {
     "base_uri": "https://localhost:8080/"
    },
    "gradient": {
     "editing": false
    },
    "id": "LMUhtx2lvRsc",
    "outputId": "fdc7298f-b5d9-4533-9b69-2d3e62866a25"
   },
   "outputs": [
    {
     "name": "stdout",
     "output_type": "stream",
     "text": [
      "66/66 [==============================] - 14s 208ms/step - loss: 1.3495 - acc: 0.7348\n"
     ]
    },
    {
     "data": {
      "text/plain": [
       "[1.3495113849639893, 0.7348484992980957]"
      ]
     },
     "execution_count": 14,
     "metadata": {},
     "output_type": "execute_result"
    }
   ],
   "source": [
    "model.evaluate(test)"
   ]
  },
  {
   "cell_type": "code",
   "execution_count": 15,
   "metadata": {
    "gradient": {
     "editing": false
    },
    "id": "cG5MaD7Uo5-g"
   },
   "outputs": [],
   "source": [
    "y_test = []\n",
    "y_predict = []\n",
    "for step in range(test.files_count//BS):\n",
    "    X, y = test.next()\n",
    "    prediction = model.predict(X)\n",
    "    y_test.extend(y)\n",
    "    y_predict.extend(prediction)"
   ]
  },
  {
   "cell_type": "code",
   "execution_count": 16,
   "metadata": {
    "gradient": {}
   },
   "outputs": [],
   "source": [
    "y_true = np.argmax(y_test, axis=1)\n",
    "prediction = np.argmax(y_predict, axis=1)"
   ]
  },
  {
   "cell_type": "code",
   "execution_count": 17,
   "metadata": {
    "gradient": {
     "editing": false
    }
   },
   "outputs": [],
   "source": [
    "from sklearn.metrics import accuracy_score, precision_score, recall_score, f1_score, confusion_matrix, classification_report, \\\n",
    "roc_curve, auc"
   ]
  },
  {
   "cell_type": "code",
   "execution_count": 18,
   "metadata": {},
   "outputs": [
    {
     "name": "stdout",
     "output_type": "stream",
     "text": [
      "Accuracy: 0.742\n",
      "Precision: 0.766\n",
      "Recall: 0.742\n",
      "F1 score: 0.745\n"
     ]
    }
   ],
   "source": [
    "# accuracy: (tp + tn) / (p + n)\n",
    "accuracy = accuracy_score(y_true, prediction)\n",
    "print(f'Accuracy: {np.round(accuracy, 3)}')\n",
    "# precision tp / (tp + fp)\n",
    "precision = precision_score(y_true, prediction, average='macro')\n",
    "print(f'Precision: {np.round(precision, 3)}')\n",
    "# recall: tp / (tp + fn)\n",
    "recall = recall_score(y_true, prediction, average='macro')\n",
    "print(f'Recall: {np.round(recall, 3)}')\n",
    "# f1: 2 tp / (2 tp + fp + fn)\n",
    "f1 = f1_score(y_true, prediction, average='macro')\n",
    "print(f'F1 score: {np.round(f1, 3)}')"
   ]
  },
  {
   "cell_type": "markdown",
   "metadata": {},
   "source": [
    "## Discussion"
   ]
  },
  {
   "cell_type": "code",
   "execution_count": 19,
   "metadata": {
    "gradient": {
     "editing": false
    }
   },
   "outputs": [
    {
     "name": "stdout",
     "output_type": "stream",
     "text": [
      "              precision    recall  f1-score   support\n",
      "\n",
      "  Agem_Kanan       0.92      0.58      0.71        19\n",
      "   Agem_Kiri       0.76      0.72      0.74        18\n",
      "      Ngegol       0.67      0.84      0.74        19\n",
      "      Nyalud       0.56      0.53      0.54        19\n",
      "   Nyeregseg       0.94      0.84      0.89        19\n",
      "     Seledet       1.00      1.00      1.00        19\n",
      "   Ulap_Ulap       0.52      0.68      0.59        19\n",
      "\n",
      "    accuracy                           0.74       132\n",
      "   macro avg       0.77      0.74      0.75       132\n",
      "weighted avg       0.77      0.74      0.75       132\n",
      "\n"
     ]
    }
   ],
   "source": [
    "target_names = test.classes\n",
    "print(classification_report(y_true, prediction, target_names=target_names))"
   ]
  },
  {
   "cell_type": "code",
   "execution_count": 20,
   "metadata": {
    "gradient": {
     "editing": false
    }
   },
   "outputs": [
    {
     "data": {
      "text/plain": [
       "<AxesSubplot:>"
      ]
     },
     "execution_count": 20,
     "metadata": {},
     "output_type": "execute_result"
    },
    {
     "data": {
      "image/png": "[encoded data removed]",
      "text/plain": [
       "<Figure size 432x288 with 2 Axes>"
      ]
     },
     "metadata": {
      "needs_background": "light"
     },
     "output_type": "display_data"
    }
   ],
   "source": [
    "matrix = confusion_matrix(y_true, prediction)\n",
    "sns.heatmap(matrix, annot=True, cmap='Blues')"
   ]
  },
  {
   "cell_type": "code",
   "execution_count": 21,
   "metadata": {
    "gradient": {
     "editing": false
    }
   },
   "outputs": [
    {
     "name": "stdout",
     "output_type": "stream",
     "text": [
      "AUC Score : 0.793\n"
     ]
    }
   ],
   "source": [
    "fpr, tpr, _ = roc_curve(y_true, prediction, pos_label=6)\n",
    "auc_score = auc(fpr, tpr)\n",
    "print(f'AUC Score : {np.round(auc_score, 3)}')"
   ]
  },
  {
   "cell_type": "code",
   "execution_count": 22,
   "metadata": {
    "gradient": {
     "editing": false
    }
   },
   "outputs": [
    {
     "data": {
      "image/png": "[encoded data removed]",
      "text/plain": [
       "<Figure size 432x288 with 1 Axes>"
      ]
     },
     "metadata": {
      "needs_background": "light"
     },
     "output_type": "display_data"
    }
   ],
   "source": [
    "plt.plot(fpr, tpr, marker='.')\n",
    "plt.plot([0, 1], [0, 1], color='navy', linestyle='--')\n",
    "plt.xlabel('False Positive Rate')\n",
    "plt.ylabel('True Positive Rate')\n",
    "plt.show()"
   ]
  },
  {
   "cell_type": "markdown",
   "metadata": {
    "gradient": {}
   },
   "source": [
    "## Model from checkpoint"
   ]
  },
  {
   "cell_type": "code",
   "execution_count": 23,
   "metadata": {},
   "outputs": [],
   "source": [
    "from tensorflow.keras.models import load_model"
   ]
  },
  {
   "cell_type": "code",
   "execution_count": 24,
   "metadata": {},
   "outputs": [],
   "source": [
    "ckp_model = load_model('Checkpoint/vgg16-lstm.h5')"
   ]
  },
  {
   "cell_type": "code",
   "execution_count": 25,
   "metadata": {},
   "outputs": [
    {
     "name": "stdout",
     "output_type": "stream",
     "text": [
      "66/66 [==============================] - 13s 194ms/step - loss: 1.0025 - acc: 0.7803\n"
     ]
    },
    {
     "data": {
      "text/plain": [
       "[1.0024648904800415, 0.7803030014038086]"
      ]
     },
     "execution_count": 25,
     "metadata": {},
     "output_type": "execute_result"
    }
   ],
   "source": [
    "ckp_model.evaluate(test)"
   ]
  },
  {
   "cell_type": "code",
   "execution_count": 26,
   "metadata": {},
   "outputs": [],
   "source": [
    "y_test = []\n",
    "y_predict = []\n",
    "for step in range(test.files_count//BS):\n",
    "    X, y = test.next()\n",
    "    prediction = ckp_model.predict(X)\n",
    "    y_test.extend(y)\n",
    "    y_predict.extend(prediction)"
   ]
  },
  {
   "cell_type": "code",
   "execution_count": 27,
   "metadata": {},
   "outputs": [],
   "source": [
    "y_true = np.argmax(y_test, axis=1)\n",
    "prediction = np.argmax(y_predict, axis=1)"
   ]
  },
  {
   "cell_type": "code",
   "execution_count": 28,
   "metadata": {},
   "outputs": [
    {
     "name": "stdout",
     "output_type": "stream",
     "text": [
      "              precision    recall  f1-score   support\n",
      "\n",
      "  Agem_Kanan       1.00      0.63      0.77        19\n",
      "   Agem_Kiri       0.78      0.74      0.76        19\n",
      "      Ngegol       0.75      0.79      0.77        19\n",
      "      Nyalud       0.61      0.61      0.61        18\n",
      "   Nyeregseg       0.82      0.95      0.88        19\n",
      "     Seledet       1.00      1.00      1.00        19\n",
      "   Ulap_Ulap       0.61      0.74      0.67        19\n",
      "\n",
      "    accuracy                           0.78       132\n",
      "   macro avg       0.80      0.78      0.78       132\n",
      "weighted avg       0.80      0.78      0.78       132\n",
      "\n"
     ]
    }
   ],
   "source": [
    "target_names = test.classes\n",
    "print(classification_report(y_true, prediction, target_names=target_names))"
   ]
  },
  {
   "cell_type": "code",
   "execution_count": 29,
   "metadata": {},
   "outputs": [
    {
     "data": {
      "text/plain": [
       "<AxesSubplot:>"
      ]
     },
     "execution_count": 29,
     "metadata": {},
     "output_type": "execute_result"
    },
    {
     "data": {
      "image/png": "[encoded data removed]",
      "text/plain": [
       "<Figure size 432x288 with 2 Axes>"
      ]
     },
     "metadata": {
      "needs_background": "light"
     },
     "output_type": "display_data"
    }
   ],
   "source": [
    "matrix = confusion_matrix(y_true, prediction)\n",
    "sns.heatmap(matrix, annot=True, cmap='Blues')"
   ]
  },
  {
   "cell_type": "code",
   "execution_count": 30,
   "metadata": {},
   "outputs": [
    {
     "name": "stdout",
     "output_type": "stream",
     "text": [
      "Accuracy: 0.78\n",
      "Precision: 0.795\n",
      "Recall: 0.779\n",
      "F1 score: 0.779\n"
     ]
    }
   ],
   "source": [
    "# accuracy: (tp + tn) / (p + n)\n",
    "accuracy = accuracy_score(y_true, prediction)\n",
    "print(f'Accuracy: {np.round(accuracy, 3)}')\n",
    "# precision tp / (tp + fp)\n",
    "precision = precision_score(y_true, prediction, average='macro')\n",
    "print(f'Precision: {np.round(precision, 3)}')\n",
    "# recall: tp / (tp + fn)\n",
    "recall = recall_score(y_true, prediction, average='macro')\n",
    "print(f'Recall: {np.round(recall, 3)}')\n",
    "# f1: 2 tp / (2 tp + fp + fn)\n",
    "f1 = f1_score(y_true, prediction, average='macro')\n",
    "print(f'F1 score: {np.round(f1, 3)}')"
   ]
  },
  {
   "cell_type": "code",
   "execution_count": 31,
   "metadata": {},
   "outputs": [
    {
     "name": "stdout",
     "output_type": "stream",
     "text": [
      "AUC Score : 0.858\n"
     ]
    }
   ],
   "source": [
    "fpr, tpr, _ = roc_curve(y_true, prediction, pos_label=6)\n",
    "auc_score = auc(fpr, tpr)\n",
    "print(f'AUC Score : {np.round(auc_score, 3)}')"
   ]
  },
  {
   "cell_type": "code",
   "execution_count": 32,
   "metadata": {},
   "outputs": [
    {
     "data": {
      "image/png": "[encoded data removed]",
      "text/plain": [
       "<Figure size 432x288 with 1 Axes>"
      ]
     },
     "metadata": {
      "needs_background": "light"
     },
     "output_type": "display_data"
    }
   ],
   "source": [
    "plt.plot(fpr, tpr, marker='.')\n",
    "plt.plot([0, 1], [0, 1], color='navy', linestyle='--')\n",
    "plt.xlabel('False Positive Rate')\n",
    "plt.ylabel('True Positive Rate')\n",
    "plt.show()"
   ]
  },
  {
   "cell_type": "code",
   "execution_count": null,
   "metadata": {},
   "outputs": [],
   "source": []
  }
 ],
 "metadata": {
  "accelerator": "GPU",
  "colab": {
   "collapsed_sections": [],
   "name": "tari-cnn-lstm.ipynb",
   "provenance": []
  },
  "kernelspec": {
   "display_name": "Python 3 (ipykernel)",
   "language": "python",
   "name": "python3"
  },
  "language_info": {
   "codemirror_mode": {
    "name": "ipython",
    "version": 3
   },
   "file_extension": ".py",
   "mimetype": "text/x-python",
   "name": "python",
   "nbconvert_exporter": "python",
   "pygments_lexer": "ipython3",
   "version": "3.9.6"
  }
 },
 "nbformat": 4,
 "nbformat_minor": 1
}
